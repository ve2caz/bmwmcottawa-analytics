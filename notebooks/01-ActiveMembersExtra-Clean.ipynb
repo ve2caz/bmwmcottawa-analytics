{
 "cells": [
  {
   "cell_type": "markdown",
   "metadata": {},
   "source": [
    "# Membership Data Cleaning"
   ]
  },
  {
   "cell_type": "code",
   "execution_count": null,
   "metadata": {
    "execution": {
     "iopub.execute_input": "2024-11-19T20:52:17.910896Z",
     "iopub.status.busy": "2024-11-19T20:52:17.910474Z",
     "iopub.status.idle": "2024-11-19T20:52:17.919980Z",
     "shell.execute_reply": "2024-11-19T20:52:17.919202Z"
    }
   },
   "outputs": [],
   "source": [
    "# Import the shared config\n",
    "import config\n",
    "import pandas as pd # type: ignore"
   ]
  },
  {
   "cell_type": "code",
   "execution_count": null,
   "metadata": {
    "execution": {
     "iopub.execute_input": "2024-11-19T20:52:17.923722Z",
     "iopub.status.busy": "2024-11-19T20:52:17.923429Z",
     "iopub.status.idle": "2024-11-19T20:52:18.521467Z",
     "shell.execute_reply": "2024-11-19T20:52:18.520619Z"
    }
   },
   "outputs": [],
   "source": [
    "# DataWrangler cleaning code\n",
    "def clean_data(df):\n",
    "    # Filter out columns with 0 distinct values\n",
    "    df = df.loc[:, df.nunique() != 0]\n",
    "    # Drop column: 'pronoun_name' as no one has filled it\n",
    "    df = df.drop(columns=['pronoun_name'])\n",
    "    return df\n",
    "\n",
    "active_members_extra_df = pd.read_csv(config.ACTIVE_MEMBERS_EXTRA_SOURCE)\n",
    "\n",
    "active_members_extra_clean_df = clean_data(active_members_extra_df.copy())"
   ]
  },
  {
   "cell_type": "code",
   "execution_count": 3,
   "metadata": {
    "execution": {
     "iopub.execute_input": "2024-11-19T20:52:18.525814Z",
     "iopub.status.busy": "2024-11-19T20:52:18.525477Z",
     "iopub.status.idle": "2024-11-19T20:52:18.536442Z",
     "shell.execute_reply": "2024-11-19T20:52:18.535621Z"
    }
   },
   "outputs": [],
   "source": [
    "# Persist the cleaned data\n",
    "active_members_extra_clean_df.to_csv(config.ACTIVE_MEMBERS_EXTRA_CLEAN, index=False)"
   ]
  }
 ],
 "metadata": {
  "kernelspec": {
   "display_name": ".venv",
   "language": "python",
   "name": "python3"
  },
  "language_info": {
   "codemirror_mode": {
    "name": "ipython",
    "version": 3
   },
   "file_extension": ".py",
   "mimetype": "text/x-python",
   "name": "python",
   "nbconvert_exporter": "python",
   "pygments_lexer": "ipython3",
   "version": "3.9.20"
  }
 },
 "nbformat": 4,
 "nbformat_minor": 2
}
