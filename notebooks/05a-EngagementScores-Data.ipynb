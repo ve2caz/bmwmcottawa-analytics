{
 "cells": [
  {
   "cell_type": "markdown",
   "metadata": {},
   "source": [
    "# Engagement Metrics"
   ]
  },
  {
   "cell_type": "code",
   "execution_count": 1,
   "metadata": {},
   "outputs": [],
   "source": [
    "from IPython.display import Markdown, display\n",
    "import config\n",
    "import pandas as pd\n",
    "\n",
    "sparse_event_data_df = pd.read_csv(config.SPARSE_EVENT_DATA_INTERIM)\n",
    "# sparse_event_data_df.head()"
   ]
  },
  {
   "cell_type": "code",
   "execution_count": 2,
   "metadata": {},
   "outputs": [],
   "source": [
    "# Exclude empty member_number records\n",
    "sparse_event_data_df = sparse_event_data_df[sparse_event_data_df[\"MEMBER_NUMBER\"].notnull()]\n",
    "\n",
    "# Calculate metrics for each member and event type\n",
    "engagement_metrics_df = (\n",
    "    sparse_event_data_df.groupby(\n",
    "        [\"MEMBER_NUMBER\", \"FIRST_NAME\", \"LAST_NAME\", \"PRIMARY_EMAIL\", \"EVENT_CATEGORY\"]\n",
    "    )\n",
    "    .agg(EVENT_COUNT=(\"EVENT_TIMESTAMP\", \"count\"), EVENT_TIMESTAMP=(\"EVENT_TIMESTAMP\", \"max\"))\n",
    "    .reset_index()\n",
    ")\n",
    "\n",
    "engagement_metrics_df.columns = [\n",
    "    \"MEMBER_NUMBER\",\n",
    "    \"FIRST_NAME\",\n",
    "    \"LAST_NAME\",\n",
    "    \"PRIMARY_EMAIL\",\n",
    "    \"EVENT_CATEGORY\",\n",
    "    \"EVENT_COUNT\",\n",
    "    \"EVENT_TIMESTAMP\",\n",
    "]\n",
    "\n",
    "# Convert LAST_EVENT_TIMESTAMP to datetime\n",
    "engagement_metrics_df[\"EVENT_TIMESTAMP\"] = pd.to_datetime(engagement_metrics_df[\"EVENT_TIMESTAMP\"])\n",
    "\n",
    "# Normalize metrics\n",
    "max_event_count = engagement_metrics_df[\"EVENT_COUNT\"].max()\n",
    "engagement_metrics_df[\"EVENT_COUNT\"] = engagement_metrics_df[\"EVENT_COUNT\"] / max_event_count\n",
    "\n",
    "most_recent_event_timestamp = engagement_metrics_df[\"EVENT_TIMESTAMP\"].max()\n",
    "engagement_metrics_df[\"EVENT_RECENCY\"] = (\n",
    "    most_recent_event_timestamp - engagement_metrics_df[\"EVENT_TIMESTAMP\"]\n",
    ").dt.days\n",
    "max_event_recency = engagement_metrics_df[\"EVENT_RECENCY\"].max()\n",
    "engagement_metrics_df[\"NORMALIZED_EVENT_RECENCY\"] = 1 - (\n",
    "    engagement_metrics_df[\"EVENT_RECENCY\"] / max_event_recency\n",
    ")\n",
    "\n",
    "# Define weights for each metric\n",
    "weights = {\n",
    "    \"EVENT_COUNT\": 0.7,\n",
    "    \"NORMALIZED_EVENT_RECENCY\": 0.3,\n",
    "}\n",
    "\n",
    "# Calculate weighted engagement score for each member\n",
    "engagement_metrics_df[\"ENGAGEMENT_SCORE\"] = (\n",
    "    engagement_metrics_df[\"EVENT_COUNT\"] * weights[\"EVENT_COUNT\"]\n",
    "    + engagement_metrics_df[\"NORMALIZED_EVENT_RECENCY\"] * weights[\"NORMALIZED_EVENT_RECENCY\"]\n",
    ")\n",
    "\n",
    "# Round the engagement scores to 3 decimal places\n",
    "engagement_metrics_df[\"ENGAGEMENT_SCORE\"] = engagement_metrics_df[\"ENGAGEMENT_SCORE\"].round(3)\n",
    "\n",
    "# Calculate overall engagement score for each event category\n",
    "overall_engagement_df = (\n",
    "    engagement_metrics_df.groupby(\"EVENT_CATEGORY\")\n",
    "    .agg({\"ENGAGEMENT_SCORE\": \"mean\"})\n",
    "    .reset_index()\n",
    "    .rename(columns={\"ENGAGEMENT_SCORE\": \"OVERALL_ENGAGEMENT_SCORE\"})\n",
    "    .sort_values(\"OVERALL_ENGAGEMENT_SCORE\", ascending=False)\n",
    ")\n",
    "\n",
    "# Round the overall engagement scores to 3 decimal places\n",
    "overall_engagement_df[\"OVERALL_ENGAGEMENT_SCORE\"] = overall_engagement_df[\n",
    "    \"OVERALL_ENGAGEMENT_SCORE\"\n",
    "].round(3)\n",
    "\n",
    "# engagement_metrics_df.head()\n",
    "# overall_engagement_df.head()"
   ]
  },
  {
   "cell_type": "code",
   "execution_count": 3,
   "metadata": {},
   "outputs": [
    {
     "data": {
      "text/markdown": [
       "\n",
       "# Overall Engagement\n",
       "\n",
       "| Event Category      |   Engagement Score |\n",
       "|:--------------------|-------------------:|\n",
       "| Road Rides          |              0.373 |\n",
       "| Club Meetings       |              0.354 |\n",
       "| International       |              0.266 |\n",
       "| Rider Training      |              0.243 |\n",
       "| GS Rides            |              0.237 |\n",
       "| Getaways            |              0.229 |\n",
       "| Tech Days           |              0.226 |\n",
       "| Potluck Dinner      |              0.217 |\n",
       "| Philanthropy        |              0.206 |\n",
       "| Workshops           |              0.177 |\n",
       "| 3rd Party           |              0.146 |\n",
       "| Club Administration |              0.134 |\n",
       "| Family Picnic       |              0.095 |\n",
       "| Café Clubs          |              0.056 |\n",
       "| Tours               |              0.036 |\n",
       "\n",
       "## Result Description\n",
       "\n",
       "The engagement scores for each event category were calculated from active member participation in calendar events since the inception of the club's use of Club Express.\n",
       "\n",
       "The scores reflect the relative popularity and member involvement in each type of event. Higher scores indicate greater engagement, suggesting that events like Road Rides and Club Meetings are particularly well-received by members. Conversely, events such as Café Clubs and Tours have lower engagement scores, indicating less member interest or participation.\n",
       "\n",
       "The results are sorted from most popular to least popular. The low scores indicate that only a subset of club members participate in or register for events such as club meetings.\n",
       "\n",
       "To obtain more accurate data, it would be necessary for club members to register for all activities they participate in and to cancel their registration if they do not attend.\n"
      ],
      "text/plain": [
       "<IPython.core.display.Markdown object>"
      ]
     },
     "metadata": {},
     "output_type": "display_data"
    }
   ],
   "source": [
    "# Create a report in Markdown format of the overall_engagement_df\n",
    "report = f\"\"\"\n",
    "# Overall Engagement\n",
    "\n",
    "{overall_engagement_df.rename(columns={\"EVENT_CATEGORY\": \"Event Category\", \"OVERALL_ENGAGEMENT_SCORE\": \"Engagement Score\"}).to_markdown(index=False)}\n",
    "\n",
    "## Result Description\n",
    "\n",
    "The engagement scores for each event category were calculated from active member participation in calendar events since the inception of the club's use of Club Express.\n",
    "\n",
    "The scores reflect the relative popularity and member involvement in each type of event. Higher scores indicate greater engagement, suggesting that events like Road Rides and Club Meetings are particularly well-received by members. Conversely, events such as Café Clubs and Tours have lower engagement scores, indicating less member interest or participation.\n",
    "\n",
    "The results are sorted from most popular to least popular. The low scores indicate that only a subset of club members participate in or register for events such as club meetings.\n",
    "\n",
    "To obtain more accurate data, it would be necessary for club members to register for all activities they participate in and to cancel their registration if they do not attend.\n",
    "\"\"\"\n",
    "# Render report in Markdown format so that it looks like formated output as opposed to markdown syntax\n",
    "display(Markdown(report))"
   ]
  },
  {
   "cell_type": "code",
   "execution_count": 4,
   "metadata": {},
   "outputs": [],
   "source": [
    "# Write the markdown report to file\n",
    "with open(config.OVERALL_ENGAGEMENT_REPORT, \"w\") as file:\n",
    "    file.write(report)"
   ]
  }
 ],
 "metadata": {
  "kernelspec": {
   "display_name": ".venv",
   "language": "python",
   "name": "python3"
  },
  "language_info": {
   "codemirror_mode": {
    "name": "ipython",
    "version": 3
   },
   "file_extension": ".py",
   "mimetype": "text/x-python",
   "name": "python",
   "nbconvert_exporter": "python",
   "pygments_lexer": "ipython3",
   "version": "3.9.20"
  }
 },
 "nbformat": 4,
 "nbformat_minor": 2
}
