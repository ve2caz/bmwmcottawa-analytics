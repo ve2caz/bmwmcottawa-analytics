{
  "cells": [
    {
      "cell_type": "markdown",
      "metadata": {},
      "source": [
        "# Import Required Libraries"
      ]
    },
    {
      "cell_type": "code",
      "execution_count": null,
      "metadata": {},
      "outputs": [],
      "source": [
        "from IPython.display import Markdown, display\n",
        "import matplotlib.pyplot as plt  # type: ignore\n",
        "import pandas as pd  # type: ignore\n",
        "import config"
      ]
    },
    {
      "cell_type": "markdown",
      "metadata": {},
      "source": [
        "# Load the active members data"
      ]
    },
    {
      "cell_type": "code",
      "execution_count": null,
      "metadata": {},
      "outputs": [],
      "source": [
        "active_members_extra_interim_df = pd.read_csv(config.ACTIVE_MEMBERS_EXTRA_INTERIM)\n",
        "active_members_extra_interim_df.head()"
      ]
    },
    {
      "cell_type": "markdown",
      "metadata": {},
      "source": [
        "# Gender Demographic Table"
      ]
    },
    {
      "cell_type": "code",
      "execution_count": null,
      "metadata": {},
      "outputs": [],
      "source": [
        "def totalMemberCount(df):\n",
        "    return df[\"MEMBER_COUNT\"].sum()\n",
        "\n",
        "\n",
        "def createGenderData(df):\n",
        "    # Work on a copy of the dataframe\n",
        "    df_copy = df.copy()\n",
        "    # Group by GENDER and count AME_PRIMARY_KEY\n",
        "    gender_data_df = df_copy.groupby(\"GENDER\")[\"AME_PRIMARY_KEY\"].count().reset_index()\n",
        "    gender_data_df.columns = [\"GENDER\", \"MEMBER_COUNT\"]\n",
        "    # Calculate percentage\n",
        "    total_count = totalMemberCount(gender_data_df)\n",
        "    gender_data_df[\"PERCENTAGE\"] = (gender_data_df[\"MEMBER_COUNT\"] / total_count) * 100\n",
        "    return gender_data_df\n",
        "\n",
        "\n",
        "def renderGenderData(df):\n",
        "    # Render a markdown table with columns Gender, Member Count, and Percentage\n",
        "    table_md = \"| Gender | Member Count | Percentage |\\n|--------|--------------|------------|\\n\"\n",
        "    for index, row in df.iterrows():\n",
        "        table_md += f\"| {row['GENDER']} | {row['MEMBER_COUNT']} | {row['PERCENTAGE']:.1f}% |\\n\"\n",
        "    table_md += f\"| **Total** | **{totalMemberCount(df)}** | **100.0%** |\"\n",
        "    display(Markdown(table_md))\n",
        "\n",
        "\n",
        "gender_data_df = createGenderData(active_members_extra_interim_df)\n",
        "renderGenderData(gender_data_df)\n",
        "\n",
        "# For TextWrangler\n",
        "gender_data_df.head()"
      ]
    },
    {
      "cell_type": "markdown",
      "metadata": {},
      "source": [
        "# Gender Demographic Chart"
      ]
    },
    {
      "cell_type": "code",
      "execution_count": null,
      "metadata": {},
      "outputs": [],
      "source": [
        "# Assign colors to genders\n",
        "colors = {\"Male\": config.GENDER_BLUE, \"Female\": config.GENDER_PINK}\n",
        "\n",
        "# Use gender_data_df to get the gender distribution\n",
        "gender_demographic_df = gender_data_df.set_index(\"GENDER\")[\"MEMBER_COUNT\"]\n",
        "\n",
        "# Plot the distribution of members\n",
        "gender_demographic_df.plot(\n",
        "    kind=\"pie\",\n",
        "    labels=[\"\"] * len(gender_data_df),\n",
        "    colors=[colors[key] for key in gender_demographic_df.index],\n",
        "    autopct=\"%1.1f%%\",\n",
        ")\n",
        "\n",
        "# Add a title\n",
        "plt.title(\"Club Member Gender Distribution\", pad=0)\n",
        "\n",
        "# Remove the axis\n",
        "plt.axis(\"off\")\n",
        "\n",
        "# Save and show the plot\n",
        "plt.savefig(config.CLUB_MEMBER_GENDER_DISTRIBUTION)\n",
        "plt.show()\n",
        "\n",
        "gender_demographic_df.head()"
      ]
    },
    {
      "cell_type": "markdown",
      "metadata": {},
      "source": [
        "# Age & Gender Demographic Table"
      ]
    },
    {
      "cell_type": "code",
      "execution_count": null,
      "metadata": {},
      "outputs": [],
      "source": [
        "def createAgeAndGenderData(df):\n",
        "    # Create a new dataframe from active_members_extra_interim_df\n",
        "    age_gender_data_df = df.copy()\n",
        "    age_gender_data_df = age_gender_data_df[[\"AME_PRIMARY_KEY\", \"DATE_OF_BIRTH\", \"GENDER\"]]\n",
        "\n",
        "    # Create the AGE column next to DATE_OF_BIRTH with int type and fill with 0\n",
        "    age_gender_data_df.insert(age_gender_data_df.columns.get_loc(\"DATE_OF_BIRTH\") + 1, \"AGE\", 0)\n",
        "\n",
        "    # Calculate age and update the AGE column\n",
        "    age_gender_data_df[\"AGE\"] = (\n",
        "        (pd.Timestamp(\"now\").year - pd.to_datetime(age_gender_data_df[\"DATE_OF_BIRTH\"]).dt.year)\n",
        "        .fillna(0)\n",
        "        .astype(int)\n",
        "    )\n",
        "    return age_gender_data_df\n",
        "\n",
        "\n",
        "def addAgeBinsToData(df):\n",
        "    # Define age buckets\n",
        "    bins = [18, 30, 40, 50, 60, 70, 80, 90, 100]\n",
        "    labels = [\"18-30\", \"31-40\", \"41-50\", \"51-60\", \"61-70\", \"71-80\", \"81-90\", \"91-100\"]\n",
        "    df.insert(\n",
        "        df.columns.get_loc(\"AGE\") + 1,\n",
        "        \"AGE_BUCKET\",\n",
        "        pd.cut(df[\"AGE\"], bins=bins, labels=labels, right=False),\n",
        "    )\n",
        "    # Include 'Unknown' in age buckets\n",
        "    df[\"AGE_BUCKET\"] = df[\"AGE_BUCKET\"].cat.add_categories(\"Unknown\").fillna(\"Unknown\")\n",
        "    return df\n",
        "\n",
        "\n",
        "def groupByAgeBinsAndGender(df):\n",
        "    # Group by age bucket and gender\n",
        "    df = df.groupby([\"AGE_BUCKET\", \"GENDER\"], observed=False).size().unstack().fillna(0)\n",
        "    return df\n",
        "\n",
        "\n",
        "def addTotalColumn(df):\n",
        "    df[\"Total\"] = df.sum(axis=1)\n",
        "    return df\n",
        "\n",
        "\n",
        "def getAgeAndGenderData(df):\n",
        "    df = createAgeAndGenderData(df)\n",
        "    df = addAgeBinsToData(df)\n",
        "    df = groupByAgeBinsAndGender(df)\n",
        "    df = addTotalColumn(df)\n",
        "    return df\n",
        "\n",
        "\n",
        "def renderAgeAndGenderData(df):\n",
        "    # Render a markdown table with columns Age Bucket, Female, Male, Total.\n",
        "    # The last row should show the total for each column.\n",
        "    table_md = \"| Age Bucket | Female | Male | Total |\\n|------------|--------|------|-------|\\n\"\n",
        "    for index, row in df.iterrows():\n",
        "        table_md += f\"| {index} | {row['Female']} | {row['Male']} | {row['Total']} |\\n\"\n",
        "    table_md += f\"| **Total** | **{df['Female'].sum()}** | **{df['Male'].sum()}** | **{df['Total'].sum()}** |\"\n",
        "    display(Markdown(table_md))\n",
        "\n",
        "\n",
        "age_gender_data_df = getAgeAndGenderData(active_members_extra_interim_df)\n",
        "renderAgeAndGenderData(age_gender_data_df)\n",
        "\n",
        "age_gender_data_df.head()"
      ]
    },
    {
      "cell_type": "markdown",
      "metadata": {},
      "source": [
        "# Age & Gender Demographic Chart"
      ]
    },
    {
      "cell_type": "code",
      "execution_count": null,
      "metadata": {},
      "outputs": [],
      "source": [
        "# Create a series with Age Bucket as index, Female, Male columns\n",
        "# from age_gender_data_df\n",
        "age_gender_series_df = age_gender_data_df[[\"Male\", \"Female\"]]\n",
        "\n",
        "# Plot the age and gender distribution\n",
        "age_gender_series_df.plot(\n",
        "    kind=\"bar\", stacked=True, color=[config.GENDER_BLUE, config.GENDER_PINK], legend=True\n",
        ")\n",
        "plt.title(\"Club Member Demographics\")\n",
        "plt.xlabel(\"Age Bucket\")\n",
        "plt.ylabel(\"Number of Members\")\n",
        "plt.legend().set_visible(False)\n",
        "\n",
        "# Save and show the plot\n",
        "plt.savefig(config.CLUB_MEMBER_AGE_GENDER_DISTRIBUTION)\n",
        "plt.show()"
      ]
    }
  ],
  "metadata": {
    "kernelspec": {
      "display_name": ".venv",
      "language": "python",
      "name": "python3"
    },
    "language_info": {
      "codemirror_mode": {
        "name": "ipython",
        "version": 3
      },
      "file_extension": ".py",
      "mimetype": "text/x-python",
      "name": "python",
      "nbconvert_exporter": "python",
      "pygments_lexer": "ipython3",
      "version": "3.9.20"
    }
  },
  "nbformat": 4,
  "nbformat_minor": 2
}
