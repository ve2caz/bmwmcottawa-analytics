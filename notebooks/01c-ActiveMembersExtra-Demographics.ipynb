{
  "cells": [
    {
      "cell_type": "markdown",
      "metadata": {},
      "source": [
        "# Import Required Libraries"
      ]
    },
    {
      "cell_type": "code",
      "execution_count": null,
      "metadata": {},
      "outputs": [],
      "source": [
        "import matplotlib.pyplot as plt # type: ignore\n",
        "import pandas as pd # type: ignore\n",
        "import config"
      ]
    },
    {
      "cell_type": "markdown",
      "metadata": {},
      "source": [
        "# Load the active members data"
      ]
    },
    {
      "cell_type": "code",
      "execution_count": null,
      "metadata": {},
      "outputs": [],
      "source": [
        "active_members_extra_interim_df = pd.read_csv(config.ACTIVE_MEMBERS_EXTRA_INTERIM)\n",
        "# active_members_extra_interim_df.head()"
      ]
    },
    {
      "cell_type": "markdown",
      "metadata": {},
      "source": [
        "# Club Member Gender Distribution"
      ]
    },
    {
      "cell_type": "code",
      "execution_count": null,
      "metadata": {},
      "outputs": [],
      "source": [
        "# Assign colors to genders\n",
        "colors = {'Male': config.GENDER_BLUE, 'Female': config.GENDER_PINK}\n",
        "\n",
        "# Count the number of members per gender\n",
        "gender_distribution = active_members_extra_interim_df['GENDER'].value_counts()\n",
        "\n",
        "# Plot the distribution of members\n",
        "gender_distribution.plot(kind='pie', \n",
        "                         labels=['']*len(gender_distribution),  \n",
        "                         colors=[colors[key] for key in gender_distribution.index], \n",
        "                         autopct='%1.1f%%')\n",
        "\n",
        "# Add a title\n",
        "plt.title('Club Member Gender Distribution', pad=0)\n",
        "\n",
        "# Save and show the plot\n",
        "plt.savefig(config.CLUB_MEMBER_GENDER_DISTRIBUTION)\n",
        "plt.show()"
      ]
    },
    {
      "cell_type": "markdown",
      "metadata": {},
      "source": [
        "# Club Member Demographics"
      ]
    },
    {
      "cell_type": "code",
      "execution_count": null,
      "metadata": {},
      "outputs": [],
      "source": [
        "# Convert date_of_birth to datetime\n",
        "active_members_extra_interim_df['DATE_OF_BIRTH'] = pd.to_datetime(active_members_extra_interim_df['DATE_OF_BIRTH'], errors='coerce')\n",
        "\n",
        "# Calculate age\n",
        "active_members_extra_interim_df['AGE'] = pd.Timestamp('now').year - active_members_extra_interim_df['DATE_OF_BIRTH'].dt.year\n",
        "\n",
        "# Define age buckets\n",
        "bins = [18, 30, 40, 50, 60, 70, 80, 90, 100]\n",
        "labels = ['18-30', '31-40', '41-50', '51-60', '61-70', '71-80', '81-90', '91-100']\n",
        "active_members_extra_interim_df['AGE_BUCKET'] = pd.cut(active_members_extra_interim_df['AGE'], bins=bins, labels=labels, right=False)\n",
        "\n",
        "# Include 'Unknown' in age buckets\n",
        "active_members_extra_interim_df['AGE_BUCKET'] = active_members_extra_interim_df['AGE_BUCKET'].cat.add_categories('Unknown').fillna('Unknown')\n",
        "\n",
        "# Group by age bucket and gender\n",
        "age_gender_distribution = active_members_extra_interim_df.groupby(['AGE_BUCKET', 'GENDER'], observed=False).size().unstack().fillna(0)\n",
        "\n",
        "# Plot the age and gender distribution\n",
        "age_gender_distribution.plot(kind='bar', color=[config.GENDER_BLUE, config.GENDER_PINK], legend=False)\n",
        "plt.title('Club Member Demographics')\n",
        "plt.xlabel('Age Bucket')\n",
        "plt.ylabel('Number of Members')\n",
        "\n",
        "# Save and show the plot\n",
        "plt.savefig(config.CLUB_MEMBER_AGE_GENDER_DISTRIBUTION)\n",
        "plt.show()"
      ]
    }
  ],
  "metadata": {
    "kernelspec": {
      "display_name": ".venv",
      "language": "python",
      "name": "python3"
    },
    "language_info": {
      "codemirror_mode": {
        "name": "ipython",
        "version": 3
      },
      "file_extension": ".py",
      "mimetype": "text/x-python",
      "name": "python",
      "nbconvert_exporter": "python",
      "pygments_lexer": "ipython3",
      "version": "3.9.20"
    }
  },
  "nbformat": 4,
  "nbformat_minor": 2
}
