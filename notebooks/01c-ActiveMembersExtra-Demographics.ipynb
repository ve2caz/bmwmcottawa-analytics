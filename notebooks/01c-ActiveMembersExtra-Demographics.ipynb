{
 "cells": [
  {
   "cell_type": "markdown",
   "metadata": {},
   "source": [
    "# Import Required Libraries"
   ]
  },
  {
   "cell_type": "code",
   "execution_count": 17,
   "metadata": {
    "execution": {
     "iopub.execute_input": "2024-11-23T23:56:09.392200Z",
     "iopub.status.busy": "2024-11-23T23:56:09.391828Z",
     "iopub.status.idle": "2024-11-23T23:56:10.335046Z",
     "shell.execute_reply": "2024-11-23T23:56:10.334209Z"
    }
   },
   "outputs": [],
   "source": [
    "from IPython.display import Markdown, display\n",
    "from scipy.stats import norm\n",
    "import matplotlib.pyplot as plt  # type: ignore\n",
    "import numpy as np  # type: ignore\n",
    "import pandas as pd  # type: ignore\n",
    "import config"
   ]
  },
  {
   "cell_type": "markdown",
   "metadata": {},
   "source": [
    "# Load the active members data"
   ]
  },
  {
   "cell_type": "code",
   "execution_count": 18,
   "metadata": {
    "execution": {
     "iopub.execute_input": "2024-11-23T23:56:10.339607Z",
     "iopub.status.busy": "2024-11-23T23:56:10.339243Z",
     "iopub.status.idle": "2024-11-23T23:56:10.371653Z",
     "shell.execute_reply": "2024-11-23T23:56:10.370948Z"
    }
   },
   "outputs": [
    {
     "data": {
      "text/html": [
       "<div>\n",
       "<style scoped>\n",
       "    .dataframe tbody tr th:only-of-type {\n",
       "        vertical-align: middle;\n",
       "    }\n",
       "\n",
       "    .dataframe tbody tr th {\n",
       "        vertical-align: top;\n",
       "    }\n",
       "\n",
       "    .dataframe thead th {\n",
       "        text-align: right;\n",
       "    }\n",
       "</style>\n",
       "<table border=\"1\" class=\"dataframe\">\n",
       "  <thead>\n",
       "    <tr style=\"text-align: right;\">\n",
       "      <th></th>\n",
       "      <th>MEMBER_NUMBER</th>\n",
       "      <th>FIRST_NAME</th>\n",
       "      <th>LAST_NAME</th>\n",
       "      <th>PRIMARY_EMAIL</th>\n",
       "      <th>ADDRESS1</th>\n",
       "      <th>ADDRESS2</th>\n",
       "      <th>CITY</th>\n",
       "      <th>STATE</th>\n",
       "      <th>ZIP</th>\n",
       "      <th>COUNTRY</th>\n",
       "      <th>...</th>\n",
       "      <th>PRIMARY_MEMBER_NUMBER</th>\n",
       "      <th>AGREED_TO_PRIVACY_TERMS</th>\n",
       "      <th>ALLOW_MARKETING</th>\n",
       "      <th>EMERGENCY_CONTACT_NAME</th>\n",
       "      <th>EMERGENCY_CONTACT_RELATIONSHIP</th>\n",
       "      <th>EMERGENCY_CONTACT_PHONE</th>\n",
       "      <th>EMERGENCY_CONTACT_EMAIL</th>\n",
       "      <th>PRONOUN_NAME</th>\n",
       "      <th>AUTOMATIC_RENEWAL_OPT_IN</th>\n",
       "      <th>LAST_LOGIN_DATETIME</th>\n",
       "    </tr>\n",
       "  </thead>\n",
       "  <tbody>\n",
       "    <tr>\n",
       "      <th>0</th>\n",
       "      <td>108</td>\n",
       "      <td>Jeff</td>\n",
       "      <td>Miller</td>\n",
       "      <td>jeffonthefly@gmail.com</td>\n",
       "      <td>65 Westward Way</td>\n",
       "      <td>NaN</td>\n",
       "      <td>Rockcliffe Park</td>\n",
       "      <td>ON</td>\n",
       "      <td>K1L 5A8</td>\n",
       "      <td>Canada</td>\n",
       "      <td>...</td>\n",
       "      <td>NaN</td>\n",
       "      <td>Yes</td>\n",
       "      <td>Unknown</td>\n",
       "      <td>Marcie Lorenzen</td>\n",
       "      <td>Spouse</td>\n",
       "      <td>613-858-8221</td>\n",
       "      <td>mjlorenzen64@gmail.com</td>\n",
       "      <td>No Preference</td>\n",
       "      <td>No</td>\n",
       "      <td>2024-11-16 15:05:00</td>\n",
       "    </tr>\n",
       "    <tr>\n",
       "      <th>1</th>\n",
       "      <td>081</td>\n",
       "      <td>Mark</td>\n",
       "      <td>Hill</td>\n",
       "      <td>membership@bmwmcottawa.ca</td>\n",
       "      <td>20 Beamish Cres</td>\n",
       "      <td>NaN</td>\n",
       "      <td>Kanata</td>\n",
       "      <td>ON</td>\n",
       "      <td>K2K 2R6</td>\n",
       "      <td>Canada</td>\n",
       "      <td>...</td>\n",
       "      <td>NaN</td>\n",
       "      <td>Yes</td>\n",
       "      <td>Unknown</td>\n",
       "      <td>Kathy Hill</td>\n",
       "      <td>Spouse</td>\n",
       "      <td>613-724-8618</td>\n",
       "      <td>kathyhill@rogers.com</td>\n",
       "      <td>No Preference</td>\n",
       "      <td>No</td>\n",
       "      <td>2024-11-23 09:37:00</td>\n",
       "    </tr>\n",
       "    <tr>\n",
       "      <th>2</th>\n",
       "      <td>122</td>\n",
       "      <td>Fiona</td>\n",
       "      <td>Brown</td>\n",
       "      <td>president@bmwmcottawa.ca</td>\n",
       "      <td>398 Gold Creek Rd</td>\n",
       "      <td>NaN</td>\n",
       "      <td>Lanark</td>\n",
       "      <td>ON</td>\n",
       "      <td>K0G 1K0</td>\n",
       "      <td>Canada</td>\n",
       "      <td>...</td>\n",
       "      <td>NaN</td>\n",
       "      <td>Yes</td>\n",
       "      <td>Unknown</td>\n",
       "      <td>Donald Mann</td>\n",
       "      <td>Partner</td>\n",
       "      <td>(613) 462-4621</td>\n",
       "      <td>norton961@tutanota.com</td>\n",
       "      <td>No Preference</td>\n",
       "      <td>No</td>\n",
       "      <td>2024-11-22 18:04:00</td>\n",
       "    </tr>\n",
       "    <tr>\n",
       "      <th>3</th>\n",
       "      <td>275</td>\n",
       "      <td>Amy</td>\n",
       "      <td>Phinney</td>\n",
       "      <td>amy.phinney@hotmail.ca</td>\n",
       "      <td>312 Centenaire St</td>\n",
       "      <td>NaN</td>\n",
       "      <td>Embrun</td>\n",
       "      <td>ON</td>\n",
       "      <td>K0A 1W0</td>\n",
       "      <td>Canada</td>\n",
       "      <td>...</td>\n",
       "      <td>NaN</td>\n",
       "      <td>Yes</td>\n",
       "      <td>Unknown</td>\n",
       "      <td>Glen Phinney</td>\n",
       "      <td>Spouse</td>\n",
       "      <td>343-543-5398</td>\n",
       "      <td>glen.phinney@forces.gc.ca</td>\n",
       "      <td>No Preference</td>\n",
       "      <td>No</td>\n",
       "      <td>2024-11-15 10:56:00</td>\n",
       "    </tr>\n",
       "    <tr>\n",
       "      <th>4</th>\n",
       "      <td>100</td>\n",
       "      <td>John</td>\n",
       "      <td>Lang</td>\n",
       "      <td>johnhughlang@gmail.com</td>\n",
       "      <td>#1104 - 1425 Vanier Parkway</td>\n",
       "      <td>NaN</td>\n",
       "      <td>Ottawa</td>\n",
       "      <td>ON</td>\n",
       "      <td>K1K 3W6</td>\n",
       "      <td>Canada</td>\n",
       "      <td>...</td>\n",
       "      <td>NaN</td>\n",
       "      <td>Yes</td>\n",
       "      <td>Unknown</td>\n",
       "      <td>Madelien Lang</td>\n",
       "      <td>Spouse</td>\n",
       "      <td>613-415-2701</td>\n",
       "      <td>madelienlang@gmail.com</td>\n",
       "      <td>No Preference</td>\n",
       "      <td>No</td>\n",
       "      <td>2024-11-13 06:19:00</td>\n",
       "    </tr>\n",
       "  </tbody>\n",
       "</table>\n",
       "<p>5 rows × 50 columns</p>\n",
       "</div>"
      ],
      "text/plain": [
       "  MEMBER_NUMBER FIRST_NAME LAST_NAME              PRIMARY_EMAIL  \\\n",
       "0           108       Jeff    Miller     jeffonthefly@gmail.com   \n",
       "1           081       Mark      Hill  membership@bmwmcottawa.ca   \n",
       "2           122      Fiona     Brown   president@bmwmcottawa.ca   \n",
       "3           275        Amy   Phinney     amy.phinney@hotmail.ca   \n",
       "4           100       John      Lang     johnhughlang@gmail.com   \n",
       "\n",
       "                      ADDRESS1 ADDRESS2             CITY STATE      ZIP  \\\n",
       "0              65 Westward Way      NaN  Rockcliffe Park    ON  K1L 5A8   \n",
       "1              20 Beamish Cres      NaN           Kanata    ON  K2K 2R6   \n",
       "2            398 Gold Creek Rd      NaN           Lanark    ON  K0G 1K0   \n",
       "3            312 Centenaire St      NaN           Embrun    ON  K0A 1W0   \n",
       "4  #1104 - 1425 Vanier Parkway      NaN           Ottawa    ON  K1K 3W6   \n",
       "\n",
       "  COUNTRY  ... PRIMARY_MEMBER_NUMBER AGREED_TO_PRIVACY_TERMS ALLOW_MARKETING  \\\n",
       "0  Canada  ...                   NaN                     Yes         Unknown   \n",
       "1  Canada  ...                   NaN                     Yes         Unknown   \n",
       "2  Canada  ...                   NaN                     Yes         Unknown   \n",
       "3  Canada  ...                   NaN                     Yes         Unknown   \n",
       "4  Canada  ...                   NaN                     Yes         Unknown   \n",
       "\n",
       "  EMERGENCY_CONTACT_NAME EMERGENCY_CONTACT_RELATIONSHIP  \\\n",
       "0        Marcie Lorenzen                         Spouse   \n",
       "1             Kathy Hill                         Spouse   \n",
       "2            Donald Mann                        Partner   \n",
       "3           Glen Phinney                         Spouse   \n",
       "4          Madelien Lang                         Spouse   \n",
       "\n",
       "  EMERGENCY_CONTACT_PHONE    EMERGENCY_CONTACT_EMAIL   PRONOUN_NAME  \\\n",
       "0            613-858-8221     mjlorenzen64@gmail.com  No Preference   \n",
       "1            613-724-8618       kathyhill@rogers.com  No Preference   \n",
       "2          (613) 462-4621     norton961@tutanota.com  No Preference   \n",
       "3            343-543-5398  glen.phinney@forces.gc.ca  No Preference   \n",
       "4            613-415-2701     madelienlang@gmail.com  No Preference   \n",
       "\n",
       "  AUTOMATIC_RENEWAL_OPT_IN  LAST_LOGIN_DATETIME  \n",
       "0                       No  2024-11-16 15:05:00  \n",
       "1                       No  2024-11-23 09:37:00  \n",
       "2                       No  2024-11-22 18:04:00  \n",
       "3                       No  2024-11-15 10:56:00  \n",
       "4                       No  2024-11-13 06:19:00  \n",
       "\n",
       "[5 rows x 50 columns]"
      ]
     },
     "execution_count": 18,
     "metadata": {},
     "output_type": "execute_result"
    }
   ],
   "source": [
    "active_members_extra_interim_df = pd.read_csv(config.ACTIVE_MEMBERS_EXTRA_INTERIM)\n",
    "active_members_extra_interim_df.head()"
   ]
  },
  {
   "cell_type": "markdown",
   "metadata": {},
   "source": [
    "# Gender Demographic Table"
   ]
  },
  {
   "cell_type": "code",
   "execution_count": 19,
   "metadata": {
    "execution": {
     "iopub.execute_input": "2024-11-23T23:56:10.375931Z",
     "iopub.status.busy": "2024-11-23T23:56:10.375589Z",
     "iopub.status.idle": "2024-11-23T23:56:10.392425Z",
     "shell.execute_reply": "2024-11-23T23:56:10.391453Z"
    }
   },
   "outputs": [
    {
     "data": {
      "text/markdown": [
       "| Gender | Member Count | Percentage |\n",
       "|--------|--------------|------------|\n",
       "| Female | 45 | 17.9% |\n",
       "| Male | 206 | 82.1% |\n",
       "| **Total** | **251** | **100.0%** |"
      ],
      "text/plain": [
       "<IPython.core.display.Markdown object>"
      ]
     },
     "metadata": {},
     "output_type": "display_data"
    },
    {
     "data": {
      "text/html": [
       "<div>\n",
       "<style scoped>\n",
       "    .dataframe tbody tr th:only-of-type {\n",
       "        vertical-align: middle;\n",
       "    }\n",
       "\n",
       "    .dataframe tbody tr th {\n",
       "        vertical-align: top;\n",
       "    }\n",
       "\n",
       "    .dataframe thead th {\n",
       "        text-align: right;\n",
       "    }\n",
       "</style>\n",
       "<table border=\"1\" class=\"dataframe\">\n",
       "  <thead>\n",
       "    <tr style=\"text-align: right;\">\n",
       "      <th></th>\n",
       "      <th>GENDER</th>\n",
       "      <th>MEMBER_COUNT</th>\n",
       "      <th>PERCENTAGE</th>\n",
       "    </tr>\n",
       "  </thead>\n",
       "  <tbody>\n",
       "    <tr>\n",
       "      <th>0</th>\n",
       "      <td>Female</td>\n",
       "      <td>45</td>\n",
       "      <td>17.928287</td>\n",
       "    </tr>\n",
       "    <tr>\n",
       "      <th>1</th>\n",
       "      <td>Male</td>\n",
       "      <td>206</td>\n",
       "      <td>82.071713</td>\n",
       "    </tr>\n",
       "  </tbody>\n",
       "</table>\n",
       "</div>"
      ],
      "text/plain": [
       "   GENDER  MEMBER_COUNT  PERCENTAGE\n",
       "0  Female            45   17.928287\n",
       "1    Male           206   82.071713"
      ]
     },
     "execution_count": 19,
     "metadata": {},
     "output_type": "execute_result"
    }
   ],
   "source": [
    "def totalMemberCount(df):\n",
    "    return df[\"MEMBER_COUNT\"].sum()\n",
    "\n",
    "\n",
    "def createGenderData(df):\n",
    "    # Work on a copy of the dataframe\n",
    "    df_copy = df.copy()\n",
    "    # Group by GENDER and count MEMBER_ID\n",
    "    gender_data_df = df_copy.groupby(\"GENDER\")[\"MEMBER_NUMBER\"].count().reset_index()\n",
    "    gender_data_df.columns = [\"GENDER\", \"MEMBER_COUNT\"]\n",
    "    # Calculate percentage\n",
    "    total_count = totalMemberCount(gender_data_df)\n",
    "    gender_data_df[\"PERCENTAGE\"] = (gender_data_df[\"MEMBER_COUNT\"] / total_count) * 100\n",
    "    return gender_data_df\n",
    "\n",
    "\n",
    "def renderGenderData(df):\n",
    "    # Render a markdown table with columns Gender, Member Count, and Percentage\n",
    "    table_md = \"| Gender | Member Count | Percentage |\\n|--------|--------------|------------|\\n\"\n",
    "    for index, row in df.iterrows():\n",
    "        table_md += f\"| {row['GENDER']} | {row['MEMBER_COUNT']} | {row['PERCENTAGE']:.1f}% |\\n\"\n",
    "    table_md += f\"| **Total** | **{totalMemberCount(df)}** | **100.0%** |\"\n",
    "    display(Markdown(table_md))\n",
    "\n",
    "\n",
    "gender_data_df = createGenderData(active_members_extra_interim_df)\n",
    "renderGenderData(gender_data_df)\n",
    "\n",
    "# For TextWrangler\n",
    "gender_data_df.head()"
   ]
  },
  {
   "cell_type": "markdown",
   "metadata": {},
   "source": [
    "# Gender Demographic Chart"
   ]
  },
  {
   "cell_type": "code",
   "execution_count": 20,
   "metadata": {
    "execution": {
     "iopub.execute_input": "2024-11-23T23:56:10.396396Z",
     "iopub.status.busy": "2024-11-23T23:56:10.396103Z",
     "iopub.status.idle": "2024-11-23T23:56:10.598925Z",
     "shell.execute_reply": "2024-11-23T23:56:10.598169Z"
    }
   },
   "outputs": [
    {
     "data": {
      "image/png": "[encoded data removed]",
      "text/plain": [
       "<Figure size 640x480 with 1 Axes>"
      ]
     },
     "metadata": {},
     "output_type": "display_data"
    },
    {
     "data": {
      "text/plain": [
       "GENDER\n",
       "Female     45\n",
       "Male      206\n",
       "Name: MEMBER_COUNT, dtype: int64"
      ]
     },
     "execution_count": 20,
     "metadata": {},
     "output_type": "execute_result"
    }
   ],
   "source": [
    "# Assign colors to genders\n",
    "colors = {\"Male\": config.GENDER_BLUE, \"Female\": config.GENDER_PINK}\n",
    "\n",
    "# Use gender_data_df to get the gender distribution\n",
    "gender_demographic_df = gender_data_df.set_index(\"GENDER\")[\"MEMBER_COUNT\"]\n",
    "\n",
    "# Plot the distribution of members\n",
    "gender_demographic_df.plot(\n",
    "    kind=\"pie\",\n",
    "    labels=[\"\"] * len(gender_data_df),\n",
    "    colors=[colors[key] for key in gender_demographic_df.index],\n",
    "    autopct=\"%1.1f%%\",\n",
    ")\n",
    "\n",
    "# Add a title\n",
    "plt.title(\"Club Member Gender Distribution\", pad=0)\n",
    "\n",
    "# Remove the axis\n",
    "plt.axis(\"off\")\n",
    "\n",
    "# Save and show the plot\n",
    "plt.savefig(config.CLUB_MEMBER_GENDER_DISTRIBUTION)\n",
    "plt.show()\n",
    "\n",
    "gender_demographic_df.head()"
   ]
  },
  {
   "cell_type": "markdown",
   "metadata": {},
   "source": [
    "# Age & Gender Demographic Table"
   ]
  },
  {
   "cell_type": "code",
   "execution_count": 21,
   "metadata": {
    "execution": {
     "iopub.execute_input": "2024-11-23T23:56:10.603013Z",
     "iopub.status.busy": "2024-11-23T23:56:10.602671Z",
     "iopub.status.idle": "2024-11-23T23:56:10.633182Z",
     "shell.execute_reply": "2024-11-23T23:56:10.632260Z"
    }
   },
   "outputs": [
    {
     "data": {
      "text/markdown": [
       "| Age Bucket | Female | Male | Total |\n",
       "|------------|--------|------|-------|\n",
       "| 18-30 | 0 | 2 | 2 |\n",
       "| 31-40 | 0 | 1 | 1 |\n",
       "| 41-50 | 3 | 14 | 17 |\n",
       "| 51-60 | 12 | 58 | 70 |\n",
       "| 61-70 | 11 | 56 | 67 |\n",
       "| 71-80 | 1 | 29 | 30 |\n",
       "| 81-90 | 0 | 6 | 6 |\n",
       "| 91-100 | 0 | 0 | 0 |\n",
       "| Unknown | 18 | 40 | 58 |\n",
       "| **Total** | **45** | **206** | **251** |"
      ],
      "text/plain": [
       "<IPython.core.display.Markdown object>"
      ]
     },
     "metadata": {},
     "output_type": "display_data"
    },
    {
     "data": {
      "text/html": [
       "<div>\n",
       "<style scoped>\n",
       "    .dataframe tbody tr th:only-of-type {\n",
       "        vertical-align: middle;\n",
       "    }\n",
       "\n",
       "    .dataframe tbody tr th {\n",
       "        vertical-align: top;\n",
       "    }\n",
       "\n",
       "    .dataframe thead th {\n",
       "        text-align: right;\n",
       "    }\n",
       "</style>\n",
       "<table border=\"1\" class=\"dataframe\">\n",
       "  <thead>\n",
       "    <tr style=\"text-align: right;\">\n",
       "      <th>GENDER</th>\n",
       "      <th>Female</th>\n",
       "      <th>Male</th>\n",
       "      <th>Total</th>\n",
       "    </tr>\n",
       "    <tr>\n",
       "      <th>AGE_BUCKET</th>\n",
       "      <th></th>\n",
       "      <th></th>\n",
       "      <th></th>\n",
       "    </tr>\n",
       "  </thead>\n",
       "  <tbody>\n",
       "    <tr>\n",
       "      <th>18-30</th>\n",
       "      <td>0</td>\n",
       "      <td>2</td>\n",
       "      <td>2</td>\n",
       "    </tr>\n",
       "    <tr>\n",
       "      <th>31-40</th>\n",
       "      <td>0</td>\n",
       "      <td>1</td>\n",
       "      <td>1</td>\n",
       "    </tr>\n",
       "    <tr>\n",
       "      <th>41-50</th>\n",
       "      <td>3</td>\n",
       "      <td>14</td>\n",
       "      <td>17</td>\n",
       "    </tr>\n",
       "    <tr>\n",
       "      <th>51-60</th>\n",
       "      <td>12</td>\n",
       "      <td>58</td>\n",
       "      <td>70</td>\n",
       "    </tr>\n",
       "    <tr>\n",
       "      <th>61-70</th>\n",
       "      <td>11</td>\n",
       "      <td>56</td>\n",
       "      <td>67</td>\n",
       "    </tr>\n",
       "  </tbody>\n",
       "</table>\n",
       "</div>"
      ],
      "text/plain": [
       "GENDER      Female  Male  Total\n",
       "AGE_BUCKET                     \n",
       "18-30            0     2      2\n",
       "31-40            0     1      1\n",
       "41-50            3    14     17\n",
       "51-60           12    58     70\n",
       "61-70           11    56     67"
      ]
     },
     "execution_count": 21,
     "metadata": {},
     "output_type": "execute_result"
    }
   ],
   "source": [
    "def createAgeAndGenderData(df):\n",
    "    # Create a new dataframe from active_members_extra_interim_df\n",
    "    age_gender_data_df = df.copy()\n",
    "    age_gender_data_df = age_gender_data_df[[\"MEMBER_NUMBER\", \"DATE_OF_BIRTH\", \"GENDER\"]]\n",
    "\n",
    "    # Create the AGE column next to DATE_OF_BIRTH with int type and fill with 0\n",
    "    age_gender_data_df.insert(age_gender_data_df.columns.get_loc(\"DATE_OF_BIRTH\") + 1, \"AGE\", 0)\n",
    "\n",
    "    # Calculate age and update the AGE column\n",
    "    age_gender_data_df[\"AGE\"] = (\n",
    "        (pd.Timestamp(\"now\").year - pd.to_datetime(age_gender_data_df[\"DATE_OF_BIRTH\"]).dt.year)\n",
    "        .fillna(0)\n",
    "        .astype(int)\n",
    "    )\n",
    "    return age_gender_data_df\n",
    "\n",
    "\n",
    "def addAgeBinsToData(df):\n",
    "    # Define age buckets\n",
    "    bins = [18, 30, 40, 50, 60, 70, 80, 90, 100]\n",
    "    labels = [\"18-30\", \"31-40\", \"41-50\", \"51-60\", \"61-70\", \"71-80\", \"81-90\", \"91-100\"]\n",
    "    df.insert(\n",
    "        df.columns.get_loc(\"AGE\") + 1,\n",
    "        \"AGE_BUCKET\",\n",
    "        pd.cut(df[\"AGE\"], bins=bins, labels=labels, right=False),\n",
    "    )\n",
    "    # Include 'Unknown' in age buckets\n",
    "    df[\"AGE_BUCKET\"] = df[\"AGE_BUCKET\"].cat.add_categories(\"Unknown\").fillna(\"Unknown\")\n",
    "    return df\n",
    "\n",
    "\n",
    "def groupByAgeBinsAndGender(df):\n",
    "    # Group by age bucket and gender\n",
    "    df = df.groupby([\"AGE_BUCKET\", \"GENDER\"], observed=False).size().unstack().fillna(0)\n",
    "    return df\n",
    "\n",
    "\n",
    "def addTotalColumn(df):\n",
    "    df[\"Total\"] = df.sum(axis=1)\n",
    "    return df\n",
    "\n",
    "\n",
    "def getAgeAndGenderData(df):\n",
    "    df = createAgeAndGenderData(df)\n",
    "    df = addAgeBinsToData(df)\n",
    "    df = groupByAgeBinsAndGender(df)\n",
    "    df = addTotalColumn(df)\n",
    "    return df\n",
    "\n",
    "\n",
    "def renderAgeAndGenderData(df):\n",
    "    # Render a markdown table with columns Age Bucket, Female, Male, Total.\n",
    "    # The last row should show the total for each column.\n",
    "    table_md = \"| Age Bucket | Female | Male | Total |\\n|------------|--------|------|-------|\\n\"\n",
    "    for index, row in df.iterrows():\n",
    "        table_md += f\"| {index} | {row['Female']} | {row['Male']} | {row['Total']} |\\n\"\n",
    "    table_md += f\"| **Total** | **{df['Female'].sum()}** | **{df['Male'].sum()}** | **{df['Total'].sum()}** |\"\n",
    "    display(Markdown(table_md))\n",
    "\n",
    "\n",
    "age_gender_data_df = getAgeAndGenderData(active_members_extra_interim_df)\n",
    "renderAgeAndGenderData(age_gender_data_df)\n",
    "\n",
    "age_gender_data_df.head()"
   ]
  },
  {
   "cell_type": "markdown",
   "metadata": {},
   "source": [
    "# Age & Gender Demographic Chart"
   ]
  },
  {
   "cell_type": "code",
   "execution_count": 22,
   "metadata": {
    "execution": {
     "iopub.execute_input": "2024-11-23T23:56:10.637167Z",
     "iopub.status.busy": "2024-11-23T23:56:10.636871Z",
     "iopub.status.idle": "2024-11-23T23:56:10.888606Z",
     "shell.execute_reply": "2024-11-23T23:56:10.888062Z"
    }
   },
   "outputs": [
    {
     "data": {
      "image/png": "[encoded data removed]",
      "text/plain": [
       "<Figure size 640x480 with 1 Axes>"
      ]
     },
     "metadata": {},
     "output_type": "display_data"
    }
   ],
   "source": [
    "# Create a series with Age Bucket as index, Female, Male columns\n",
    "# from age_gender_data_df\n",
    "age_gender_series_df = age_gender_data_df[[\"Male\", \"Female\"]]\n",
    "\n",
    "# Plot the age and gender distribution\n",
    "age_gender_series_df.plot(\n",
    "    kind=\"bar\", stacked=True, color=[config.GENDER_BLUE, config.GENDER_PINK], legend=True\n",
    ")\n",
    "plt.title(\"Club Member Demographics\")\n",
    "plt.xlabel(\"Age Bucket\")\n",
    "plt.ylabel(\"Number of Members\")\n",
    "plt.legend().set_visible(False)\n",
    "\n",
    "# Save and show the plot\n",
    "plt.savefig(config.CLUB_MEMBER_AGE_GENDER_DISTRIBUTION)\n",
    "plt.show()"
   ]
  },
  {
   "cell_type": "markdown",
   "metadata": {},
   "source": [
    "# Active Member Mean Age"
   ]
  },
  {
   "cell_type": "code",
   "execution_count": 23,
   "metadata": {},
   "outputs": [
    {
     "data": {
      "image/png": "[encoded data removed]",
      "text/plain": [
       "<Figure size 640x480 with 1 Axes>"
      ]
     },
     "metadata": {},
     "output_type": "display_data"
    }
   ],
   "source": [
    "# Calculate the mean age of members\n",
    "mean_age = (\n",
    "    active_members_extra_interim_df[\"DATE_OF_BIRTH\"]\n",
    "    .dropna()\n",
    "    .apply(lambda x: pd.Timestamp(\"now\").year - pd.to_datetime(x).year)\n",
    "    .mean()\n",
    ")\n",
    "\n",
    "# Plot a bell-shaped curve (normal distribution) for the mean age\n",
    "\n",
    "# Generate data for the bell curve\n",
    "x = np.linspace(mean_age - 3 * 10, mean_age + 3 * 10, 100)\n",
    "y = norm.pdf(x, mean_age, 10)\n",
    "\n",
    "# Plot the bell curve\n",
    "plt.plot(x, y, label=\"Mean Age Distribution\", color=config.GENDER_NEUTRAL)\n",
    "plt.fill_between(x, y, alpha=0.2, color=config.GENDER_NEUTRAL_FILL)\n",
    "\n",
    "# Add a vertical line at the mean age\n",
    "plt.axvline(mean_age, color=\"red\", linestyle=\"--\", label=f\"Mean Age: {mean_age:.1f}\")\n",
    "\n",
    "# Add title\n",
    "plt.title(\"Mean Age of Active Members\")\n",
    "\n",
    "# Remove the y-axis\n",
    "plt.gca().axes.get_yaxis().set_visible(False)\n",
    "\n",
    "# Save and show the plot\n",
    "plt.savefig(config.CLUB_MEMBER_MEAN_AGE_DISTRIBUTION)\n",
    "plt.show()"
   ]
  },
  {
   "cell_type": "markdown",
   "metadata": {},
   "source": [
    "# Active Member Median Age"
   ]
  },
  {
   "cell_type": "code",
   "execution_count": 24,
   "metadata": {},
   "outputs": [
    {
     "data": {
      "image/png": "[encoded data removed]",
      "text/plain": [
       "<Figure size 640x480 with 1 Axes>"
      ]
     },
     "metadata": {},
     "output_type": "display_data"
    }
   ],
   "source": [
    "# Calculate the median age of members\n",
    "median_age = (\n",
    "    active_members_extra_interim_df[\"DATE_OF_BIRTH\"]\n",
    "    .dropna()\n",
    "    .apply(lambda x: pd.Timestamp(\"now\").year - pd.to_datetime(x).year)\n",
    "    .median()\n",
    ")\n",
    "\n",
    "# Plot a bell-shaped curve (normal distribution) for the median age\n",
    "\n",
    "# Generate data for the bell curve\n",
    "x = np.linspace(median_age - 3 * 10, median_age + 3 * 10, 100)\n",
    "y = norm.pdf(x, median_age, 10)\n",
    "\n",
    "# Plot the bell curve\n",
    "plt.plot(x, y, label=\"Median Age Distribution\", color=config.GENDER_NEUTRAL)\n",
    "plt.fill_between(x, y, alpha=0.2, color=config.GENDER_NEUTRAL_FILL)\n",
    "\n",
    "# Add a vertical line at the median age\n",
    "plt.axvline(median_age, color=\"red\", linestyle=\"--\", label=f\"Median Age: {median_age:.1f}\")\n",
    "\n",
    "# Add title\n",
    "plt.title(\"Median Age of Active Members\")\n",
    "\n",
    "# Remove the y-axis\n",
    "plt.gca().axes.get_yaxis().set_visible(False)\n",
    "\n",
    "# Add legend and show the plot\n",
    "plt.savefig(config.CLUB_MEMBER_MEDIAN_AGE_DISTRIBUTION)\n",
    "plt.show()"
   ]
  }
 ],
 "metadata": {
  "kernelspec": {
   "display_name": ".venv",
   "language": "python",
   "name": "python3"
  },
  "language_info": {
   "codemirror_mode": {
    "name": "ipython",
    "version": 3
   },
   "file_extension": ".py",
   "mimetype": "text/x-python",
   "name": "python",
   "nbconvert_exporter": "python",
   "pygments_lexer": "ipython3",
   "version": "3.9.20"
  }
 },
 "nbformat": 4,
 "nbformat_minor": 2
}
