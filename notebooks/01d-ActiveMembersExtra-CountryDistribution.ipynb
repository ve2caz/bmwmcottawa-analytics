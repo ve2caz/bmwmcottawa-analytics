{
 "cells": [
  {
   "cell_type": "markdown",
   "metadata": {},
   "source": [
    "# Import Required Libraries\n",
    "Import the necessary libraries, including geopandas, matplotlib, and pandas."
   ]
  },
  {
   "cell_type": "code",
   "execution_count": null,
   "metadata": {
    "execution": {
     "iopub.execute_input": "2024-11-23T23:56:12.132933Z",
     "iopub.status.busy": "2024-11-23T23:56:12.132578Z",
     "iopub.status.idle": "2024-11-23T23:56:13.239853Z",
     "shell.execute_reply": "2024-11-23T23:56:13.238955Z"
    }
   },
   "outputs": [],
   "source": [
    "# Import Required Libraries\n",
    "import geopandas as gpd  # type: ignore\n",
    "import matplotlib.pyplot as plt  # type: ignore\n",
    "import pandas as pd  # type: ignore\n",
    "import config\n",
    "import os\n",
    "import tempfile\n",
    "import zipfile"
   ]
  },
  {
   "cell_type": "markdown",
   "metadata": {},
   "source": [
    "# Load the active members data"
   ]
  },
  {
   "cell_type": "code",
   "execution_count": null,
   "metadata": {
    "execution": {
     "iopub.execute_input": "2024-11-23T23:56:13.244765Z",
     "iopub.status.busy": "2024-11-23T23:56:13.244346Z",
     "iopub.status.idle": "2024-11-23T23:56:13.276272Z",
     "shell.execute_reply": "2024-11-23T23:56:13.275414Z"
    }
   },
   "outputs": [],
   "source": [
    "active_members_extra_interim_df = pd.read_csv(config.ACTIVE_MEMBERS_EXTRA_INTERIM)\n",
    "active_members_extra_interim_df.head()"
   ]
  },
  {
   "cell_type": "markdown",
   "metadata": {},
   "source": [
    "# Group by Country and Count Members\n",
    "Group the active members by country and count the number of members in each country."
   ]
  },
  {
   "cell_type": "code",
   "execution_count": null,
   "metadata": {
    "execution": {
     "iopub.execute_input": "2024-11-23T23:56:13.280431Z",
     "iopub.status.busy": "2024-11-23T23:56:13.280133Z",
     "iopub.status.idle": "2024-11-23T23:56:13.289118Z",
     "shell.execute_reply": "2024-11-23T23:56:13.288291Z"
    }
   },
   "outputs": [],
   "source": [
    "# Group by Country and Count Members\n",
    "country_distribution = active_members_extra_interim_df[\"COUNTRY\"].value_counts().reset_index()\n",
    "country_distribution.columns = [\"COUNTRY\", \"COUNT\"]\n",
    "country_distribution.head()"
   ]
  },
  {
   "cell_type": "markdown",
   "metadata": {},
   "source": [
    "# Read Shapefile from Zip File\n",
    "Read the shapefile from the zip file and load it into a GeoDataFrame."
   ]
  },
  {
   "cell_type": "code",
   "execution_count": null,
   "metadata": {
    "execution": {
     "iopub.execute_input": "2024-11-23T23:56:13.293180Z",
     "iopub.status.busy": "2024-11-23T23:56:13.292883Z",
     "iopub.status.idle": "2024-11-23T23:56:13.565165Z",
     "shell.execute_reply": "2024-11-23T23:56:13.564413Z"
    }
   },
   "outputs": [],
   "source": [
    "# Read the shapefile from the zip file and load it into a GeoDataFrame\n",
    "with zipfile.ZipFile(config.NE_50M_ADMIN_0_COUNTRIES, \"r\") as zip_ref:\n",
    "    with tempfile.TemporaryDirectory() as tmpdirname:\n",
    "        zip_ref.extractall(tmpdirname)\n",
    "        shapefile_path = os.path.join(tmpdirname, \"ne_50m_admin_0_countries.shp\")\n",
    "        world_df = gpd.read_file(shapefile_path)\n",
    "world_df.head()"
   ]
  },
  {
   "cell_type": "markdown",
   "metadata": {},
   "source": [
    "# Merge Country Distribution with World Map\n",
    "Merge the country distribution DataFrame with the world map GeoDataFrame."
   ]
  },
  {
   "cell_type": "code",
   "execution_count": null,
   "metadata": {
    "execution": {
     "iopub.execute_input": "2024-11-23T23:56:13.569371Z",
     "iopub.status.busy": "2024-11-23T23:56:13.569007Z",
     "iopub.status.idle": "2024-11-23T23:56:13.592174Z",
     "shell.execute_reply": "2024-11-23T23:56:13.591242Z"
    }
   },
   "outputs": [],
   "source": [
    "# Merge the filtered country distribution with the world map\n",
    "merged_world_df = world_df.merge(\n",
    "    country_distribution, how=\"left\", left_on=\"NAME\", right_on=\"COUNTRY\"\n",
    ")\n",
    "merged_world_df.head()"
   ]
  },
  {
   "cell_type": "markdown",
   "metadata": {},
   "source": [
    "# Plot the World Map\n",
    "Plot the world map, showing the countries with counted members, and save the plot."
   ]
  },
  {
   "cell_type": "code",
   "execution_count": null,
   "metadata": {
    "execution": {
     "iopub.execute_input": "2024-11-23T23:56:13.596379Z",
     "iopub.status.busy": "2024-11-23T23:56:13.596089Z",
     "iopub.status.idle": "2024-11-23T23:56:13.878432Z",
     "shell.execute_reply": "2024-11-23T23:56:13.877846Z"
    }
   },
   "outputs": [],
   "source": [
    "# Plot the Filtered Map\n",
    "\n",
    "# Render Canada in red, the USA in blue, and other countries in grey\n",
    "colors = {\"Canada\": config.CANADA_RED, \"United States of America\": config.USA_BLUE}\n",
    "world_df[\"color\"] = world_df[\"NAME\"].apply(lambda x: colors.get(x, \"grey\"))\n",
    "\n",
    "# Plot the map with the specified colors\n",
    "world_df[world_df[\"CONTINENT\"] == \"North America\"].plot(\n",
    "    color=world_df[world_df[\"CONTINENT\"] == \"North America\"][\"color\"]\n",
    ")\n",
    "\n",
    "# Center the continent in the window\n",
    "plt.xlim(-170, -30)\n",
    "plt.ylim(0, 80)\n",
    "\n",
    "# Plot circles over each country where count is not missing with a number in the middle of the circle\n",
    "for idx, row in merged_world_df.dropna(subset=[\"COUNT\"]).iterrows():\n",
    "    if row[\"COUNTRY\"] == \"Canada\":\n",
    "        x_offset, y_offset = -10, -4\n",
    "    elif row[\"COUNTRY\"] == \"United States of America\":\n",
    "        x_offset, y_offset = 12, -6\n",
    "    else:\n",
    "        x_offset, y_offset = 0, 0\n",
    "\n",
    "    if row[\"COUNTRY\"] == \"Canada\":\n",
    "        size = row[\"COUNT\"] * 3  # Adjust the multiplier for Canada\n",
    "    else:\n",
    "        size = row[\"COUNT\"] * 15  # Adjust the multiplier for other countries\n",
    "    plt.scatter(\n",
    "        row[\"geometry\"].centroid.x + x_offset,\n",
    "        row[\"geometry\"].centroid.y + y_offset,\n",
    "        s=size,\n",
    "        color=\"white\",\n",
    "        edgecolor=\"none\",\n",
    "        alpha=1.0,\n",
    "    )\n",
    "    plt.text(\n",
    "        row[\"geometry\"].centroid.x + x_offset,\n",
    "        row[\"geometry\"].centroid.y + y_offset,\n",
    "        str(int(row[\"COUNT\"])),\n",
    "        ha=\"center\",\n",
    "        va=\"center\",\n",
    "        fontsize=8,\n",
    "        color=\"black\",\n",
    "    )\n",
    "\n",
    "# Add a title and show the plot\n",
    "plt.title(\"Active Club Members by Country\", pad=10)\n",
    "\n",
    "# Remove the axes\n",
    "plt.axis(\"off\")\n",
    "\n",
    "# Save and show the plot\n",
    "plt.savefig(config.CLUB_MEMBER_COUNTRY_DISTRIBUTION)\n",
    "plt.show()"
   ]
  }
 ],
 "metadata": {
  "kernelspec": {
   "display_name": ".venv",
   "language": "python",
   "name": "python3"
  },
  "language_info": {
   "codemirror_mode": {
    "name": "ipython",
    "version": 3
   },
   "file_extension": ".py",
   "mimetype": "text/x-python",
   "name": "python",
   "nbconvert_exporter": "python",
   "pygments_lexer": "ipython3",
   "version": "3.9.20"
  }
 },
 "nbformat": 4,
 "nbformat_minor": 2
}
