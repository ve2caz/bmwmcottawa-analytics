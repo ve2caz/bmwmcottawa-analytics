{
  "cells": [
    {
      "cell_type": "markdown",
      "metadata": {},
      "source": [
        "# Import Required Libraries\n",
        "Import the necessary libraries, including geopandas, matplotlib, and pandas."
      ]
    },
    {
      "cell_type": "code",
      "execution_count": null,
      "metadata": {},
      "outputs": [],
      "source": [
        "# Import Required Libraries\n",
        "import geopandas as gpd  # type: ignore\n",
        "import matplotlib.pyplot as plt  # type: ignore\n",
        "import pandas as pd  # type: ignore\n",
        "import config\n",
        "import os\n",
        "import tempfile\n",
        "import zipfile"
      ]
    },
    {
      "cell_type": "markdown",
      "metadata": {},
      "source": [
        "# Load the active members data"
      ]
    },
    {
      "cell_type": "code",
      "execution_count": null,
      "metadata": {},
      "outputs": [],
      "source": [
        "active_members_extra_gender_df = pd.read_csv(config.ACTIVE_MEMBERS_EXTRA_INTERIM)\n",
        "# active_members_extra_gender_df.head()"
      ]
    },
    {
      "cell_type": "markdown",
      "metadata": {},
      "source": [
        "# Group by Canadian Province, City and Count Members\n",
        "- Group the active members by province and count members\n",
        "- Group the active members by province/city and count members"
      ]
    },
    {
      "cell_type": "code",
      "execution_count": null,
      "metadata": {},
      "outputs": [],
      "source": [
        "# Group by Country and Count Members\n",
        "# Count by province\n",
        "province_distribution = (\n",
        "    active_members_extra_gender_df[active_members_extra_gender_df[\"COUNTRY\"] == \"Canada\"][\n",
        "        [\"COUNTRY\", \"STATE\"]\n",
        "    ]\n",
        "    .value_counts()\n",
        "    .reset_index(name=\"COUNT\")\n",
        ")\n",
        "print(province_distribution.head())\n",
        "\n",
        "# Count by city\n",
        "canadian_city_distribution = (\n",
        "    active_members_extra_gender_df[active_members_extra_gender_df[\"COUNTRY\"] == \"Canada\"][\n",
        "        [\"COUNTRY\", \"CITY\"]\n",
        "    ]\n",
        "    .value_counts()\n",
        "    .reset_index(name=\"COUNT\")\n",
        ")\n",
        "print(canadian_city_distribution.head())"
      ]
    },
    {
      "cell_type": "markdown",
      "metadata": {},
      "source": [
        "# Read Shapefile from each Zip Files\n",
        "Read the shapefile from each zip file and load it into a GeoDataFrame."
      ]
    },
    {
      "cell_type": "code",
      "execution_count": null,
      "metadata": {},
      "outputs": [],
      "source": [
        "# Read the shapefile from the zip file and load it into a GeoDataFrame\n",
        "with zipfile.ZipFile(config.NE_50M_ADMIN_1_STATES_PROVINCES, \"r\") as zip_ref:\n",
        "    with tempfile.TemporaryDirectory() as tmpdirname:\n",
        "        zip_ref.extractall(tmpdirname)\n",
        "        shapefile_path = os.path.join(tmpdirname, \"ne_50m_admin_1_states_provinces.shp\")\n",
        "        states_provinces_df = gpd.read_file(shapefile_path)\n",
        "\n",
        "with zipfile.ZipFile(config.NE_50M_POPULATED_PLACES, \"r\") as zip_ref:\n",
        "    with tempfile.TemporaryDirectory() as tmpdirname:\n",
        "        zip_ref.extractall(tmpdirname)\n",
        "        shapefile_path = os.path.join(tmpdirname, \"ne_50m_populated_places.shp\")\n",
        "        populated_df = gpd.read_file(shapefile_path)\n",
        "\n",
        "# states_provinces_df.head()\n",
        "populated_df.head()"
      ]
    },
    {
      "cell_type": "markdown",
      "metadata": {},
      "source": [
        "# Test Plot of the maps"
      ]
    },
    {
      "cell_type": "code",
      "execution_count": null,
      "metadata": {},
      "outputs": [],
      "source": [
        "# Filter the provinces to only include those in Canada\n",
        "canadian_provinces_df = states_provinces_df[states_provinces_df[\"iso_a2\"] == \"CA\"]\n",
        "\n",
        "# Filter the cities to only include those in Canada\n",
        "canadian_cities_df = populated_df[populated_df[\"ADM0_A3\"] == \"CAN\"]\n",
        "\n",
        "# Plot the Canadian provinces in Canadian RED\n",
        "ax = canadian_provinces_df.plot(figsize=(10, 10), color=config.CANADA_RED, edgecolor=\"black\")\n",
        "\n",
        "# Plot the Canadian cities on top of the provinces in BMW blue with larger circles\n",
        "canadian_cities_df.plot(ax=ax, color=config.BMW_BLUE, markersize=100, edgecolor=\"black\")\n",
        "\n",
        "# Annotate the city names\n",
        "for idx, row in canadian_cities_df.iterrows():\n",
        "    plt.text(row.geometry.x, row.geometry.y, row[\"NAME\"], fontsize=8, ha=\"right\", color=\"black\")\n",
        "\n",
        "plt.show()"
      ]
    },
    {
      "cell_type": "markdown",
      "metadata": {},
      "source": [
        "# Merge Country Distribution with World Map\n",
        "Merge the country distribution DataFrame with the world map GeoDataFrame."
      ]
    },
    {
      "cell_type": "code",
      "execution_count": null,
      "metadata": {},
      "outputs": [],
      "source": [
        "# Merge the filtered country distribution with the world map\n",
        "# merged_world_df = world_df.merge(canadian_city_distribution, how='left', left_on=['NAME', 'city'], right_on=['country', 'city'])\n",
        "# merged_world_df.head()"
      ]
    },
    {
      "cell_type": "markdown",
      "metadata": {},
      "source": [
        "# Plot the World Map\n",
        "Plot the world map, showing the countries with counted members, and save the plot."
      ]
    },
    {
      "cell_type": "code",
      "execution_count": null,
      "metadata": {},
      "outputs": [],
      "source": [
        "# # Plot the Filtered Map\n",
        "\n",
        "# # Render Canada in red, the USA in blue, and other countries in grey\n",
        "# colors = {'Canada': config.CANADA_RED, 'United States of America': config.USA_BLUE}\n",
        "# world_df['color'] = world_df['NAME'].apply(lambda x: colors.get(x, 'grey'))\n",
        "\n",
        "# # Plot the map with the specified colors\n",
        "# world_df[world_df['CONTINENT'] == 'North America'].plot(color=world_df[world_df['CONTINENT'] == 'North America']['color'])\n",
        "\n",
        "# # Center the continent in the window\n",
        "# plt.xlim(-170, -30)\n",
        "# plt.ylim(0, 80)\n",
        "\n",
        "# # Plot circles over each country where count is not missing with a number in the middle of the circle\n",
        "# for idx, row in merged_world_df.dropna(subset=['count']).iterrows():\n",
        "#     if row['country'] == 'Canada':\n",
        "#         x_offset, y_offset = -10, -4\n",
        "#     elif row['country'] == 'United States of America':\n",
        "#         x_offset, y_offset = 12, -6\n",
        "#     else:\n",
        "#         x_offset, y_offset = 0, 0\n",
        "\n",
        "#     if row['country'] == 'Canada':\n",
        "#         size = row['count'] * 3  # Adjust the multiplier for Canada\n",
        "#     else:\n",
        "#         size = row['count'] * 10  # Adjust the multiplier for other countries\n",
        "#     plt.scatter(row['geometry'].centroid.x + x_offset, row['geometry'].centroid.y + y_offset, s=size, color='white', edgecolor='none', alpha=1.0)\n",
        "#     plt.text(row['geometry'].centroid.x + x_offset, row['geometry'].centroid.y + y_offset, str(int(row['count'])),\n",
        "#              ha='center', va='center', fontsize=8, color='black')\n",
        "\n",
        "# # Add a title and show the plot\n",
        "# plt.title('Active Club Members by Country', pad=10)\n",
        "\n",
        "# # Remove the axes\n",
        "# plt.axis('off')\n",
        "\n",
        "# # Save and show the plot\n",
        "# plt.savefig(config.CLUB_MEMBER_CANADIAN_CITY_DISTRIBUTION)\n",
        "# plt.show()"
      ]
    }
  ],
  "metadata": {
    "kernelspec": {
      "display_name": ".venv",
      "language": "python",
      "name": "python3"
    },
    "language_info": {
      "codemirror_mode": {
        "name": "ipython",
        "version": 3
      },
      "file_extension": ".py",
      "mimetype": "text/x-python",
      "name": "python",
      "nbconvert_exporter": "python",
      "pygments_lexer": "ipython3",
      "version": "3.9.20"
    }
  },
  "nbformat": 4,
  "nbformat_minor": 2
}
