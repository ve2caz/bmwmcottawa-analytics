{
  "cells": [
    {
      "cell_type": "markdown",
      "metadata": {},
      "source": [
        "# Events And Registrants Data"
      ]
    },
    {
      "cell_type": "code",
      "execution_count": null,
      "metadata": {},
      "outputs": [],
      "source": [
        "# Import the shared config\n",
        "import config\n",
        "import hashlib\n",
        "import pandas as pd  # type: ignore\n",
        "\n",
        "# Read raw data\n",
        "event_information_data_raw_df = pd.read_csv(config.EVENT_INFORMATION_DATA_RAW)\n",
        "event_information_data_raw_df.head()"
      ]
    },
    {
      "cell_type": "code",
      "execution_count": null,
      "metadata": {},
      "outputs": [],
      "source": [
        "def clean_data(df):\n",
        "    # Uppercase column names\n",
        "    df.columns = df.columns.str.upper()\n",
        "\n",
        "    # Replace white space with _\n",
        "    df.columns = df.columns.str.replace(\" \", \"_\")\n",
        "\n",
        "    # Replace / with _\n",
        "    df.columns = df.columns.str.replace(\"/\", \"_\")\n",
        "\n",
        "    # Remove ? from column names\n",
        "    df.columns = df.columns.str.replace(\"?\", \"\", regex=False)\n",
        "\n",
        "    # Remove . from column names\n",
        "    df.columns = df.columns.str.replace(\".\", \"\", regex=False)\n",
        "\n",
        "    # Formats\n",
        "    datetime_format = \"%Y-%m-%d %I:%M:%S %p\"  # 2024-12-31 11:59:59 PM\n",
        "\n",
        "    #\n",
        "    # Date and Time column manipulcations\n",
        "    #\n",
        "\n",
        "    df.loc[:, \"START_DATE\"] = pd.to_datetime(\n",
        "        df[\"START_DATE\"], format=datetime_format, errors=\"coerce\"\n",
        "    )\n",
        "\n",
        "    # Function to create a short, uppercase hash\n",
        "    def createHash(value):\n",
        "        return hashlib.md5(value.encode()).hexdigest()[:16].upper()\n",
        "\n",
        "    #\n",
        "    # EVENT_INFO_ID key generation\n",
        "    #\n",
        "\n",
        "    # Hash the combined values from START_DATE, EVENT_CATEGORY, EVENT_TITLE columns\n",
        "    # Insert the hash as the first column with EVENT_INFO_ID as the name\n",
        "    df.insert(\n",
        "        0,\n",
        "        \"EVENT_INFO_ID\",\n",
        "        df.apply(\n",
        "            lambda row: createHash(f\"{row['START_DATE']} {row['CATEGORY_NAME']} {row['TITLE']}\"),\n",
        "            axis=1,\n",
        "        ),\n",
        "    )\n",
        "\n",
        "    return df\n",
        "\n",
        "\n",
        "event_information_data_clean_df = clean_data(event_information_data_raw_df)\n",
        "event_information_data_clean_df.head()"
      ]
    },
    {
      "cell_type": "markdown",
      "metadata": {},
      "source": []
    },
    {
      "cell_type": "code",
      "execution_count": null,
      "metadata": {},
      "outputs": [],
      "source": [
        "# Persist the interim data\n",
        "event_information_data_clean_df.to_csv(config.EVENT_INFORMATION_DATA_INTERIM, index=False)"
      ]
    }
  ],
  "metadata": {
    "kernelspec": {
      "display_name": ".venv",
      "language": "python",
      "name": "python3"
    },
    "language_info": {
      "codemirror_mode": {
        "name": "ipython",
        "version": 3
      },
      "file_extension": ".py",
      "mimetype": "text/x-python",
      "name": "python",
      "nbconvert_exporter": "python",
      "pygments_lexer": "ipython3",
      "version": "3.9.20"
    }
  },
  "nbformat": 4,
  "nbformat_minor": 2
}
