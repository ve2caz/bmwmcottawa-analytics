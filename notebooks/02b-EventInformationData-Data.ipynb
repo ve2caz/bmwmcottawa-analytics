{
 "cells": [
  {
   "cell_type": "markdown",
   "metadata": {},
   "source": [
    "# Events Information Data"
   ]
  },
  {
   "cell_type": "code",
   "execution_count": null,
   "metadata": {
    "execution": {
     "iopub.execute_input": "2024-11-23T23:56:19.812988Z",
     "iopub.status.busy": "2024-11-23T23:56:19.812670Z",
     "iopub.status.idle": "2024-11-23T23:56:20.227281Z",
     "shell.execute_reply": "2024-11-23T23:56:20.226577Z"
    }
   },
   "outputs": [],
   "source": [
    "# Import the shared config\n",
    "import config\n",
    "import hashlib\n",
    "import pandas as pd  # type: ignore\n",
    "\n",
    "# Read raw data\n",
    "event_information_data_raw_df = pd.read_csv(config.EVENT_INFORMATION_DATA_RAW)\n",
    "event_information_data_raw_df.head()"
   ]
  },
  {
   "cell_type": "code",
   "execution_count": null,
   "metadata": {
    "execution": {
     "iopub.execute_input": "2024-11-23T23:56:20.231516Z",
     "iopub.status.busy": "2024-11-23T23:56:20.231172Z",
     "iopub.status.idle": "2024-11-23T23:56:20.275334Z",
     "shell.execute_reply": "2024-11-23T23:56:20.274661Z"
    }
   },
   "outputs": [],
   "source": [
    "def clean_data(df):\n",
    "    # Don't work on the original data\n",
    "    df_copy = df.copy()\n",
    "\n",
    "    # Uppercase column names\n",
    "    df_copy.columns = df_copy.columns.str.upper()\n",
    "\n",
    "    # Drop columns with no values\n",
    "    df_copy = df_copy.dropna(axis=1, how=\"all\")\n",
    "\n",
    "    # Fix column names\n",
    "    df_copy.columns = df_copy.columns.str.replace(\" \", \"_\")\n",
    "    df_copy.columns = df_copy.columns.str.replace(\"/\", \"_\")\n",
    "    df_copy.columns = df_copy.columns.str.replace(\"?\", \"\", regex=False)\n",
    "    df_copy.columns = df_copy.columns.str.replace(\".\", \"\", regex=False)\n",
    "\n",
    "    # Convert to datetime\n",
    "    datetime_format = \"%Y-%m-%d %I:%M:%S %p\"  # 2024-12-31 11:59:59 PM\n",
    "    df_copy.loc[:, \"START_DATE\"] = pd.to_datetime(\n",
    "        df_copy[\"START_DATE\"], format=datetime_format, errors=\"coerce\"\n",
    "    )\n",
    "\n",
    "    # Normalize column names\n",
    "    df_copy.rename(columns={\"START_DATE\": \"EVENT_TIMESTAMP\"}, inplace=True)\n",
    "    df_copy.rename(columns={\"CATEGORY_NAME\": \"EVENT_CATEGORY\"}, inplace=True)\n",
    "    df_copy.rename(columns={\"TITLE\": \"EVENT_TITLE\"}, inplace=True)\n",
    "    df_copy.rename(columns={\"SHORT_DESCRIPTION\": \"EVENT_SHORT_DESCRIPTION\"}, inplace=True)\n",
    "\n",
    "    #\n",
    "    # EVENT_INFO_ID key\n",
    "    #\n",
    "\n",
    "    # Function to create a short, uppercase hash\n",
    "    def createHash(value):\n",
    "        return hashlib.md5(value.encode()).hexdigest()[:16].upper()\n",
    "\n",
    "    # Hash the combined values from EVENT_TIMESTAMP, EVENT_CATEGORY, EVENT_TITLE columns\n",
    "    # Insert the hash as the first column with EVENT_INFO_ID as the name\n",
    "    df_copy[\"EVENT_INFO_ID\"] = df_copy.apply(\n",
    "        lambda row: createHash(\n",
    "            f\"{row['EVENT_TIMESTAMP']} {row['EVENT_CATEGORY']} {row['EVENT_TITLE']}\"\n",
    "        ),\n",
    "        axis=1,\n",
    "    )\n",
    "\n",
    "    # Order columns\n",
    "    columns = [\n",
    "        \"EVENT_INFO_ID\",\n",
    "        \"EVENT_TIMESTAMP\",\n",
    "        \"EVENT_CATEGORY\",\n",
    "        \"EVENT_TITLE\",\n",
    "        \"EVENT_SHORT_DESCRIPTION\",\n",
    "        \"LOCATION\",\n",
    "        \"LOCATION_ADDRESS\",\n",
    "        \"LOCATION_CITY\",\n",
    "        \"LOCATION_STATE_PROVINCE\",\n",
    "        \"LOCATION_ZIP_POSTAL_CODE\",\n",
    "        \"LOCATION_COUNTRY\",\n",
    "        \"LOCATION_PHONE\",\n",
    "        \"LOCATION_WEBSITE\",\n",
    "    ]\n",
    "    df_copy = df_copy[columns + [col for col in df_copy if col not in columns]]\n",
    "\n",
    "    return df_copy\n",
    "\n",
    "\n",
    "event_information_data_clean_df = clean_data(event_information_data_raw_df)\n",
    "event_information_data_clean_df.head()"
   ]
  },
  {
   "cell_type": "markdown",
   "metadata": {},
   "source": []
  },
  {
   "cell_type": "code",
   "execution_count": null,
   "metadata": {
    "execution": {
     "iopub.execute_input": "2024-11-23T23:56:20.279315Z",
     "iopub.status.busy": "2024-11-23T23:56:20.278996Z",
     "iopub.status.idle": "2024-11-23T23:56:20.290765Z",
     "shell.execute_reply": "2024-11-23T23:56:20.289933Z"
    }
   },
   "outputs": [],
   "source": [
    "# Persist the interim data\n",
    "event_information_data_clean_df.to_csv(config.EVENT_INFORMATION_DATA_INTERIM, index=False)"
   ]
  }
 ],
 "metadata": {
  "kernelspec": {
   "display_name": ".venv",
   "language": "python",
   "name": "python3"
  },
  "language_info": {
   "codemirror_mode": {
    "name": "ipython",
    "version": 3
   },
   "file_extension": ".py",
   "mimetype": "text/x-python",
   "name": "python",
   "nbconvert_exporter": "python",
   "pygments_lexer": "ipython3",
   "version": "3.9.20"
  }
 },
 "nbformat": 4,
 "nbformat_minor": 2
}
