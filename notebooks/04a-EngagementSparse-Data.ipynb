{
 "cells": [
  {
   "cell_type": "markdown",
   "metadata": {},
   "source": [
    "# Engagement Sparse Data"
   ]
  },
  {
   "cell_type": "code",
   "execution_count": null,
   "metadata": {
    "execution": {
     "iopub.execute_input": "2024-11-23T23:56:25.140865Z",
     "iopub.status.busy": "2024-11-23T23:56:25.140586Z",
     "iopub.status.idle": "2024-11-23T23:56:25.554547Z",
     "shell.execute_reply": "2024-11-23T23:56:25.553792Z"
    }
   },
   "outputs": [],
   "source": [
    "import pandas as pd  # type: ignore\n",
    "import config\n",
    "\n",
    "event_df = pd.read_csv(config.EVENTS_AND_REGISTRANTS_INTERIM)\n",
    "event_meta_df = pd.read_csv(config.EVENT_INFORMATION_DATA_INTERIM)\n",
    "member_df = pd.read_csv(config.ACTIVE_MEMBERS_EXTRA_INTERIM)"
   ]
  },
  {
   "cell_type": "markdown",
   "metadata": {},
   "source": [
    "# Join data on EVENT_INFO_ID and MEMBER_NUMBER"
   ]
  },
  {
   "cell_type": "code",
   "execution_count": null,
   "metadata": {
    "execution": {
     "iopub.execute_input": "2024-11-23T23:56:25.558641Z",
     "iopub.status.busy": "2024-11-23T23:56:25.558361Z",
     "iopub.status.idle": "2024-11-23T23:56:25.604487Z",
     "shell.execute_reply": "2024-11-23T23:56:25.603761Z"
    }
   },
   "outputs": [],
   "source": [
    "# Join event_df with event_meta_df on EVENT_INFO_ID\n",
    "sparse_event_data_df = event_df.merge(\n",
    "    event_meta_df, on=\"EVENT_INFO_ID\", how=\"left\", suffixes=(\"\", \"_right\")\n",
    ")\n",
    "\n",
    "# Join events_df with member_df on MEMBER_ID\n",
    "sparse_event_data_df = sparse_event_data_df.merge(\n",
    "    member_df, on=\"MEMBER_NUMBER\", how=\"left\", suffixes=(\"\", \"_right\")\n",
    ")\n",
    "\n",
    "# Drop columns that are not needed\n",
    "sparse_event_data_df.drop(\n",
    "    columns=[\"EVENT_TIMESTAMP_right\", \"VISIBILITY_right\"],\n",
    "    inplace=True,\n",
    ")\n",
    "\n",
    "sparse_event_data_df.head()"
   ]
  },
  {
   "cell_type": "code",
   "execution_count": null,
   "metadata": {
    "execution": {
     "iopub.execute_input": "2024-11-23T23:56:25.608035Z",
     "iopub.status.busy": "2024-11-23T23:56:25.607727Z",
     "iopub.status.idle": "2024-11-23T23:56:25.745268Z",
     "shell.execute_reply": "2024-11-23T23:56:25.744674Z"
    }
   },
   "outputs": [],
   "source": [
    "# Persist the interim data\n",
    "sparse_event_data_df.to_csv(config.SPARSE_EVENT_DATA_INTERIM, index=False)"
   ]
  }
 ],
 "metadata": {
  "kernelspec": {
   "display_name": ".venv",
   "language": "python",
   "name": "python3"
  },
  "language_info": {
   "codemirror_mode": {
    "name": "ipython",
    "version": 3
   },
   "file_extension": ".py",
   "mimetype": "text/x-python",
   "name": "python",
   "nbconvert_exporter": "python",
   "pygments_lexer": "ipython3",
   "version": "3.9.20"
  }
 },
 "nbformat": 4,
 "nbformat_minor": 2
}
