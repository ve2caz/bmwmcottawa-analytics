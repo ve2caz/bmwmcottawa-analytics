{
  "cells": [
    {
      "cell_type": "markdown",
      "metadata": {},
      "source": [
        "# Active Members Extra Data"
      ]
    },
    {
      "cell_type": "code",
      "execution_count": null,
      "metadata": {},
      "outputs": [],
      "source": [
        "# Import the shared config\n",
        "import config\n",
        "import hashlib\n",
        "import pandas as pd # type: ignore\n",
        "\n",
        "# Read raw data\n",
        "active_members_extra_df = pd.read_csv(config.ACTIVE_MEMBERS_EXTRA_RAW)\n",
        "# active_members_extra_df.head()"
      ]
    },
    {
      "cell_type": "code",
      "execution_count": null,
      "metadata": {},
      "outputs": [],
      "source": [
        "# DataWrangler cleaning code\n",
        "def clean_data(df):\n",
        "    # Uppercase column names\n",
        "    df.columns = df.columns.str.upper()\n",
        "    # Drop columns with no values\n",
        "    df = df.dropna(axis=1, how='all')\n",
        "    # Function to create a short, uppercase hash\n",
        "    def create_hash(value):\n",
        "        return hashlib.md5(value.encode()).hexdigest()[:8].upper()\n",
        "    # Insert PRIMARY_KEY column at the beginning\n",
        "    df.insert(0, 'PRIMARY_KEY', df['MEMBER_NUMBER'].apply(create_hash))\n",
        "    return df\n",
        "\n",
        "active_members_extra_clean_df = clean_data(active_members_extra_df.copy())\n",
        "active_members_extra_clean_df.head()"
      ]
    },
    {
      "cell_type": "code",
      "execution_count": null,
      "metadata": {},
      "outputs": [],
      "source": [
        "# Persist the interim data\n",
        "active_members_extra_clean_df.to_csv(config.ACTIVE_MEMBERS_EXTRA_INTERIM, index=False)"
      ]
    }
  ],
  "metadata": {
    "kernelspec": {
      "display_name": ".venv",
      "language": "python",
      "name": "python3"
    },
    "language_info": {
      "codemirror_mode": {
        "name": "ipython",
        "version": 3
      },
      "file_extension": ".py",
      "mimetype": "text/x-python",
      "name": "python",
      "nbconvert_exporter": "python",
      "pygments_lexer": "ipython3",
      "version": "3.9.20"
    }
  },
  "nbformat": 4,
  "nbformat_minor": 2
}
