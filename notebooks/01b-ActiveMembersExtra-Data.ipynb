{
 "cells": [
  {
   "cell_type": "markdown",
   "metadata": {},
   "source": [
    "# Active Members Extra Data"
   ]
  },
  {
   "cell_type": "code",
   "execution_count": null,
   "metadata": {
    "execution": {
     "iopub.execute_input": "2024-11-23T23:56:07.704617Z",
     "iopub.status.busy": "2024-11-23T23:56:07.704294Z",
     "iopub.status.idle": "2024-11-23T23:56:08.120352Z",
     "shell.execute_reply": "2024-11-23T23:56:08.119504Z"
    }
   },
   "outputs": [],
   "source": [
    "# Import the shared config\n",
    "import config\n",
    "import pandas as pd  # type: ignore\n",
    "\n",
    "# Read raw data\n",
    "active_members_extra_raw_df = pd.read_csv(config.ACTIVE_MEMBERS_EXTRA_RAW)\n",
    "# active_members_extra_df.head()"
   ]
  },
  {
   "cell_type": "code",
   "execution_count": null,
   "metadata": {
    "execution": {
     "iopub.execute_input": "2024-11-23T23:56:08.124620Z",
     "iopub.status.busy": "2024-11-23T23:56:08.124291Z",
     "iopub.status.idle": "2024-11-23T23:56:08.167145Z",
     "shell.execute_reply": "2024-11-23T23:56:08.165677Z"
    }
   },
   "outputs": [],
   "source": [
    "def clean_data(df):\n",
    "    # Don't work on the original dataframe\n",
    "    df_copy = df.copy()\n",
    "\n",
    "    # Uppercase column names\n",
    "    df_copy.columns = df_copy.columns.str.upper()\n",
    "\n",
    "    # Drop columns with no values\n",
    "    df_copy = df_copy.dropna(axis=1, how=\"all\")\n",
    "\n",
    "    # Convert to datetime columns that only contain a date\n",
    "    date_columns = [\n",
    "        \"DATE_JOINED\",\n",
    "        \"DATE_EXPIRED\",\n",
    "        \"LAST_RENEWAL_DATE\",\n",
    "        \"DATE_OF_BIRTH\",\n",
    "        \"DATE_MODIFIED\",\n",
    "    ]\n",
    "    date_format = \"%Y-%m-%d\"  # 2024-12-31\n",
    "    date_time_format = \"%Y-%m-%d %I:%M:%S %p\"  # 2024-12-31 11:59:59 PM\n",
    "    for col in date_columns:\n",
    "        df_copy.loc[:, col] = pd.to_datetime(df_copy[col], format=date_format, errors=\"coerce\")\n",
    "    df_copy.loc[:, \"LAST_LOGIN_DATETIME\"] = pd.to_datetime(\n",
    "        df_copy[\"LAST_LOGIN_DATETIME\"], format=date_time_format, errors=\"coerce\"\n",
    "    )\n",
    "\n",
    "    return df_copy\n",
    "\n",
    "\n",
    "active_members_extra_clean_df = clean_data(active_members_extra_raw_df.copy())\n",
    "active_members_extra_clean_df.head()"
   ]
  },
  {
   "cell_type": "code",
   "execution_count": null,
   "metadata": {
    "execution": {
     "iopub.execute_input": "2024-11-23T23:56:08.215283Z",
     "iopub.status.busy": "2024-11-23T23:56:08.214951Z",
     "iopub.status.idle": "2024-11-23T23:56:08.231377Z",
     "shell.execute_reply": "2024-11-23T23:56:08.230616Z"
    }
   },
   "outputs": [],
   "source": [
    "# Persist the interim data\n",
    "active_members_extra_clean_df.to_csv(config.ACTIVE_MEMBERS_EXTRA_INTERIM, index=False)"
   ]
  }
 ],
 "metadata": {
  "kernelspec": {
   "display_name": ".venv",
   "language": "python",
   "name": "python3"
  },
  "language_info": {
   "codemirror_mode": {
    "name": "ipython",
    "version": 3
   },
   "file_extension": ".py",
   "mimetype": "text/x-python",
   "name": "python",
   "nbconvert_exporter": "python",
   "pygments_lexer": "ipython3",
   "version": "3.9.20"
  }
 },
 "nbformat": 4,
 "nbformat_minor": 2
}
