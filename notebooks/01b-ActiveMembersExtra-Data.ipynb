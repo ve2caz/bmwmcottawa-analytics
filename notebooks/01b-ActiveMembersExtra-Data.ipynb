{
  "cells": [
    {
      "cell_type": "markdown",
      "metadata": {},
      "source": [
        "# Active Members Extra Data"
      ]
    },
    {
      "cell_type": "code",
      "execution_count": null,
      "metadata": {},
      "outputs": [],
      "source": [
        "# Import the shared config\n",
        "import config\n",
        "import hashlib\n",
        "import pandas as pd  # type: ignore\n",
        "\n",
        "# Read raw data\n",
        "active_members_extra_df = pd.read_csv(config.ACTIVE_MEMBERS_EXTRA_RAW)\n",
        "# active_members_extra_df.head()"
      ]
    },
    {
      "cell_type": "code",
      "execution_count": null,
      "metadata": {},
      "outputs": [],
      "source": [
        "import pandas as pd\n",
        "import hashlib  # noqa: F811,\n",
        "\n",
        "\n",
        "# DataWrangler cleaning code\n",
        "def clean_data(df):\n",
        "    # Uppercase column names\n",
        "    df.columns = df.columns.str.upper()\n",
        "    # Drop columns with no values\n",
        "    df = df.dropna(axis=1, how=\"all\")\n",
        "\n",
        "    # Function to create a short, uppercase hash\n",
        "    def create_hash(value):\n",
        "        return hashlib.md5(value.encode()).hexdigest()[:16].upper()\n",
        "\n",
        "    # Insert AME_PRIMARY_KEY column at the beginning\n",
        "    df.insert(0, \"AME_PRIMARY_KEY\", df[\"MEMBER_NUMBER\"].apply(create_hash))\n",
        "    # Convert to datetime columns that only contain a date\n",
        "    date_columns = [\n",
        "        \"DATE_JOINED\",\n",
        "        \"DATE_EXPIRED\",\n",
        "        \"LAST_RENEWAL_DATE\",\n",
        "        \"DATE_OF_BIRTH\",\n",
        "        \"DATE_MODIFIED\",\n",
        "    ]\n",
        "    # Use .loc to avoid SettingWithCopyWarning and specify date format\n",
        "    date_format = \"%Y-%m-%d\"  # 2024-12-31\n",
        "    for col in date_columns:\n",
        "        df.loc[:, col] = pd.to_datetime(df[col], format=date_format, errors=\"coerce\")\n",
        "    # Convert to datetime columns that cantian both a date and a time\n",
        "    date_time_format = \"%Y-%m-%d %I:%M:%S %p\"  # 2024-12-31 11:59:59 PM\n",
        "    df.loc[:, \"LAST_LOGIN_DATETIME\"] = pd.to_datetime(\n",
        "        df[\"LAST_LOGIN_DATETIME\"], format=date_time_format, errors=\"coerce\"\n",
        "    )\n",
        "\n",
        "    return df\n",
        "\n",
        "\n",
        "active_members_extra_clean_df = clean_data(active_members_extra_df.copy())\n",
        "active_members_extra_clean_df.head()"
      ]
    },
    {
      "cell_type": "code",
      "execution_count": null,
      "metadata": {},
      "outputs": [],
      "source": [
        "# Persist the interim data\n",
        "active_members_extra_clean_df.to_csv(config.ACTIVE_MEMBERS_EXTRA_INTERIM, index=False)"
      ]
    }
  ],
  "metadata": {
    "kernelspec": {
      "display_name": ".venv",
      "language": "python",
      "name": "python3"
    },
    "language_info": {
      "codemirror_mode": {
        "name": "ipython",
        "version": 3
      },
      "file_extension": ".py",
      "mimetype": "text/x-python",
      "name": "python",
      "nbconvert_exporter": "python",
      "pygments_lexer": "ipython3",
      "version": "3.9.20"
    }
  },
  "nbformat": 4,
  "nbformat_minor": 2
}
