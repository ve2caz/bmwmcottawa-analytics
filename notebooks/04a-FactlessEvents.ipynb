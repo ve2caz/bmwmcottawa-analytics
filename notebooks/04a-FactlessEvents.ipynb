{
  "cells": [
    {
      "cell_type": "markdown",
      "metadata": {},
      "source": [
        "# Factless Event Data"
      ]
    },
    {
      "cell_type": "code",
      "execution_count": null,
      "metadata": {},
      "outputs": [],
      "source": [
        "# Import the shared config\n",
        "import config\n",
        "import hashlib\n",
        "import pandas as pd  # type: ignore\n",
        "\n",
        "# Read raw data\n",
        "events_and_registrants_interim_df = pd.read_csv(config.EVENTS_AND_REGISTRANTS_INTERIM)\n",
        "events_and_registrants_interim_df.head()"
      ]
    },
    {
      "cell_type": "code",
      "execution_count": null,
      "metadata": {},
      "outputs": [],
      "source": [
        "def clean_data(df):\n",
        "    # Remove rows with missing MEMBER_NUMBER values\n",
        "    df = events_and_registrants_interim_df.dropna(subset=[\"MEMBER_NUMBER\"])\n",
        "\n",
        "    # Function to create a short, uppercase hash\n",
        "    def createHash(value):\n",
        "        return hashlib.md5(value.encode()).hexdigest()[:16].upper()\n",
        "\n",
        "    # Insert ACTIVE_MEMBER_EXTRA_ID column at the beginning\n",
        "    df.insert(2, \"ACTIVE_MEMBER_EXTRA_ID\", df[\"MEMBER_NUMBER\"].apply(createHash))\n",
        "\n",
        "    # Only keep EVENT_ID, EVENT_INFO_ID, ACTIVE_MEMBER_EXTRA_ID columns\n",
        "    df = df[[\"EVENT_ID\", \"EVENT_INFO_ID\", \"ACTIVE_MEMBER_EXTRA_ID\"]]\n",
        "\n",
        "    return df\n",
        "\n",
        "\n",
        "factless_events_clean_df = clean_data(events_and_registrants_interim_df)\n",
        "factless_events_clean_df.head()"
      ]
    },
    {
      "cell_type": "code",
      "execution_count": null,
      "metadata": {},
      "outputs": [],
      "source": [
        "# Persist the interim data\n",
        "factless_events_clean_df.to_csv(config.FACTLESS_EVENT_DATA_INTERIM, index=False)"
      ]
    }
  ],
  "metadata": {
    "kernelspec": {
      "display_name": ".venv",
      "language": "python",
      "name": "python3"
    },
    "language_info": {
      "codemirror_mode": {
        "name": "ipython",
        "version": 3
      },
      "file_extension": ".py",
      "mimetype": "text/x-python",
      "name": "python",
      "nbconvert_exporter": "python",
      "pygments_lexer": "ipython3",
      "version": "3.9.20"
    }
  },
  "nbformat": 4,
  "nbformat_minor": 2
}
