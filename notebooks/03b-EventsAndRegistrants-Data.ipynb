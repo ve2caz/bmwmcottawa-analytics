{
 "cells": [
  {
   "cell_type": "markdown",
   "metadata": {},
   "source": [
    "# Events And Registrants Data"
   ]
  },
  {
   "cell_type": "code",
   "execution_count": null,
   "metadata": {
    "execution": {
     "iopub.execute_input": "2024-11-23T23:56:23.327467Z",
     "iopub.status.busy": "2024-11-23T23:56:23.327101Z",
     "iopub.status.idle": "2024-11-23T23:56:23.760731Z",
     "shell.execute_reply": "2024-11-23T23:56:23.759974Z"
    }
   },
   "outputs": [],
   "source": [
    "# Import the shared config\n",
    "import config\n",
    "import hashlib\n",
    "import pandas as pd  # type: ignore\n",
    "\n",
    "# Read raw data\n",
    "events_and_registrants_raw_df = pd.read_csv(config.EVENTS_AND_REGISTRANTS_RAW)\n",
    "events_and_registrants_raw_df.head()"
   ]
  },
  {
   "cell_type": "code",
   "execution_count": null,
   "metadata": {
    "execution": {
     "iopub.execute_input": "2024-11-23T23:56:23.765164Z",
     "iopub.status.busy": "2024-11-23T23:56:23.764804Z",
     "iopub.status.idle": "2024-11-23T23:56:23.956572Z",
     "shell.execute_reply": "2024-11-23T23:56:23.955889Z"
    }
   },
   "outputs": [],
   "source": [
    "def clean_data(df):\n",
    "    # Don't work on the original\n",
    "    df_copy = df.copy()\n",
    "\n",
    "    # Uppercase column names\n",
    "    df_copy.columns = df_copy.columns.str.upper()\n",
    "\n",
    "    # Drop columns with no values\n",
    "    df_copy = df_copy.dropna(axis=1, how=\"all\")\n",
    "\n",
    "    # Replace white space with _\n",
    "    df_copy.columns = df_copy.columns.str.replace(\" \", \"_\")\n",
    "\n",
    "    # Generate a EVENT_TIMESTAMP value from existing data\n",
    "    def createEventTimestamp(row):\n",
    "        return f\"{row['EVENT_DATE']} {row['EVENT_START_TIME']}\"\n",
    "\n",
    "    # Insert EVENT_TIMESTAMP column at the begining\n",
    "    df_copy[\"EVENT_TIMESTAMP\"] = df_copy.apply(createEventTimestamp, axis=1)\n",
    "\n",
    "    # Append column EVENT_INDEX based on row index\n",
    "    df_copy[\"EVENT_INDEX\"] = df_copy.index\n",
    "\n",
    "    # Function to create a short, uppercase hash\n",
    "    def createHash(value):\n",
    "        return hashlib.md5(value.encode()).hexdigest()[:16].upper()\n",
    "\n",
    "    # Hash the combined values from EVENT_INDEX, EVENT_DATE, EVENT_START_TIME, EVENT_FINISH_TIME columns\n",
    "    # Insert the hash as the first column with EVENT_ID as the name\n",
    "    df_copy.insert(\n",
    "        0,\n",
    "        \"EVENT_ID\",\n",
    "        df_copy.apply(\n",
    "            lambda row: createHash(\n",
    "                f\"{row['EVENT_INDEX']}-{row['EVENT_DATE']}-{row['EVENT_START_TIME']}-{row['EVENT_FINISH_TIME']}\"\n",
    "            ),\n",
    "            axis=1,\n",
    "        ),\n",
    "    )\n",
    "\n",
    "    # Drop the EVENT_INDEX column now that we have EVENT_ID\n",
    "    df_copy.drop(columns=[\"EVENT_INDEX\"], inplace=True)\n",
    "\n",
    "    #\n",
    "    # EVENT_INFO_ID\n",
    "    #\n",
    "\n",
    "    # Hash the combined values from EVENT_TIMESTAMP, EVENT_CATEGORY, EVENT_TITLE columns\n",
    "    # Insert the hash as the first column with EVENT_INFO_ID as the name\n",
    "    df_copy[\"EVENT_INFO_ID\"] = df_copy.apply(\n",
    "        lambda row: createHash(\n",
    "            f\"{row['EVENT_TIMESTAMP']} {row['EVENT_CATEGORY']} {row['EVENT_TITLE']}\"\n",
    "        ),\n",
    "        axis=1,\n",
    "    )\n",
    "\n",
    "    # Drop the EVENT_CATEGORY, EVENT_TITLE columns as they are no longer needed\n",
    "    df_copy.drop(columns=[\"EVENT_CATEGORY\", \"EVENT_TITLE\"], inplace=True)\n",
    "\n",
    "    # Order columns\n",
    "    columns = [\n",
    "        \"EVENT_ID\",\n",
    "        \"EVENT_TIMESTAMP\",\n",
    "        \"EVENT_DATE\",\n",
    "        \"EVENT_START_TIME\",\n",
    "        \"EVENT_FINISH_TIME\",\n",
    "        \"EVENT_INFO_ID\",\n",
    "        \"MEMBER_NUMBER\",\n",
    "        \"REGISTRANT_LAST_NAME\",\n",
    "        \"REGISTRANT_FIRST_NAME\",\n",
    "        \"REGISTRANT_TYPE\",\n",
    "        \"REGISTRATION_STATUS\",\n",
    "        \"ATTENDED\",\n",
    "    ]\n",
    "    df_copy = df_copy[columns + [col for col in df_copy if col not in columns]]\n",
    "\n",
    "    return df_copy\n",
    "\n",
    "\n",
    "events_and_registrants_clean_df = clean_data(events_and_registrants_raw_df)\n",
    "events_and_registrants_clean_df.head()"
   ]
  },
  {
   "cell_type": "markdown",
   "metadata": {},
   "source": []
  },
  {
   "cell_type": "code",
   "execution_count": null,
   "metadata": {
    "execution": {
     "iopub.execute_input": "2024-11-23T23:56:23.960521Z",
     "iopub.status.busy": "2024-11-23T23:56:23.960216Z",
     "iopub.status.idle": "2024-11-23T23:56:23.988624Z",
     "shell.execute_reply": "2024-11-23T23:56:23.987713Z"
    }
   },
   "outputs": [],
   "source": [
    "# Persist the interim data\n",
    "events_and_registrants_clean_df.to_csv(config.EVENTS_AND_REGISTRANTS_INTERIM, index=False)"
   ]
  }
 ],
 "metadata": {
  "kernelspec": {
   "display_name": ".venv",
   "language": "python",
   "name": "python3"
  },
  "language_info": {
   "codemirror_mode": {
    "name": "ipython",
    "version": 3
   },
   "file_extension": ".py",
   "mimetype": "text/x-python",
   "name": "python",
   "nbconvert_exporter": "python",
   "pygments_lexer": "ipython3",
   "version": "3.9.20"
  }
 },
 "nbformat": 4,
 "nbformat_minor": 2
}
