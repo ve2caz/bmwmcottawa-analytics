{
 "cells": [
  {
   "cell_type": "markdown",
   "metadata": {},
   "source": [
    "# Import Required Libraries"
   ]
  },
  {
   "cell_type": "code",
   "execution_count": null,
   "metadata": {
    "execution": {
     "iopub.execute_input": "2024-11-19T20:52:19.719624Z",
     "iopub.status.busy": "2024-11-19T20:52:19.719174Z",
     "iopub.status.idle": "2024-11-19T20:52:20.205656Z",
     "shell.execute_reply": "2024-11-19T20:52:20.204876Z"
    }
   },
   "outputs": [],
   "source": [
    "import pandas as pd # type: ignore\n",
    "import config\n",
    "import zipfile"
   ]
  },
  {
   "cell_type": "markdown",
   "metadata": {},
   "source": [
    "# Load the cleaned ActiveMembersExtra.csv file"
   ]
  },
  {
   "cell_type": "code",
   "execution_count": 2,
   "metadata": {
    "execution": {
     "iopub.execute_input": "2024-11-19T20:52:20.211484Z",
     "iopub.status.busy": "2024-11-19T20:52:20.209768Z",
     "iopub.status.idle": "2024-11-19T20:52:20.225965Z",
     "shell.execute_reply": "2024-11-19T20:52:20.225145Z"
    }
   },
   "outputs": [],
   "source": [
    "active_members_extra_clean_df = pd.read_csv(config.ACTIVE_MEMBERS_EXTRA_CLEAN)\n",
    "# active_members_extra_clean_df.head()"
   ]
  },
  {
   "cell_type": "markdown",
   "metadata": {},
   "source": [
    "# Load the UCI Gender by Name Dataset"
   ]
  },
  {
   "cell_type": "code",
   "execution_count": 3,
   "metadata": {
    "execution": {
     "iopub.execute_input": "2024-11-19T20:52:20.231312Z",
     "iopub.status.busy": "2024-11-19T20:52:20.230891Z",
     "iopub.status.idle": "2024-11-19T20:52:20.362560Z",
     "shell.execute_reply": "2024-11-19T20:52:20.361738Z"
    }
   },
   "outputs": [],
   "source": [
    "# Read ZIP File into DataFrame\n",
    "with zipfile.ZipFile(config.GENDER_BY_NAME_ZIP, 'r') as z:\n",
    "    with z.open(z.namelist()[0]) as f:\n",
    "        raw_uci_gender_df = pd.read_csv(f)\n",
    "\n",
    "# Display the first few rows of the dataframe to verify loading\n",
    "# raw_uci_gender_df.head()"
   ]
  },
  {
   "cell_type": "markdown",
   "metadata": {},
   "source": [
    "# Adapt the UCI Gender by Name Dataset\n",
    "- Drop Count/Probability columns\n",
    "- Rename column \"Name\" to \"first_name\"\n",
    "- Lowercase column names"
   ]
  },
  {
   "cell_type": "code",
   "execution_count": 4,
   "metadata": {
    "execution": {
     "iopub.execute_input": "2024-11-19T20:52:20.367138Z",
     "iopub.status.busy": "2024-11-19T20:52:20.366697Z",
     "iopub.status.idle": "2024-11-19T20:52:20.379498Z",
     "shell.execute_reply": "2024-11-19T20:52:20.378711Z"
    }
   },
   "outputs": [],
   "source": [
    "# Filter out Count/Probability columns\n",
    "uci_gender_df = raw_uci_gender_df[['Name', 'Gender']].copy()\n",
    "\n",
    "# Rename the Name column to first_name\n",
    "uci_gender_df.rename(columns={'Name': 'first_name'}, inplace=True)\n",
    "\n",
    "# Lowercase column names\n",
    "uci_gender_df.columns = uci_gender_df.columns.str.lower()\n",
    "\n",
    "# Display the first few rows of the modified dataframe to verify changes\n",
    "# uci_gender_df.head()"
   ]
  },
  {
   "cell_type": "markdown",
   "metadata": {},
   "source": [
    "# Add Corrections to the UCI Gender by Name Dataset"
   ]
  },
  {
   "cell_type": "code",
   "execution_count": 5,
   "metadata": {
    "execution": {
     "iopub.execute_input": "2024-11-19T20:52:20.383947Z",
     "iopub.status.busy": "2024-11-19T20:52:20.383634Z",
     "iopub.status.idle": "2024-11-19T20:52:20.394012Z",
     "shell.execute_reply": "2024-11-19T20:52:20.393153Z"
    }
   },
   "outputs": [],
   "source": [
    "# Load the 02-AllMembers-InsertGenderCorrections.csv file using pandas\n",
    "gender_corrections_df = pd.read_csv(config.GENDER_BY_NAME_MISSING_RECORDS)\n",
    "\n",
    "# Append rows from gender_corrections_df to uci_gender_df\n",
    "uci_gender_df = pd.concat([uci_gender_df, gender_corrections_df], ignore_index=True)\n",
    "\n",
    "# Display the last few rows of the merged dataframe to verify the merge\n",
    "# uci_gender_df.tail()\n",
    "\n"
   ]
  },
  {
   "cell_type": "markdown",
   "metadata": {},
   "source": [
    "# Parse and Merge Datasets\n",
    "Parse the GenderNamesSource.csv file and merge it with the UCI Gender by Name dataset."
   ]
  },
  {
   "cell_type": "code",
   "execution_count": 6,
   "metadata": {
    "execution": {
     "iopub.execute_input": "2024-11-19T20:52:20.399473Z",
     "iopub.status.busy": "2024-11-19T20:52:20.398977Z",
     "iopub.status.idle": "2024-11-19T20:52:20.445939Z",
     "shell.execute_reply": "2024-11-19T20:52:20.445150Z"
    }
   },
   "outputs": [],
   "source": [
    "# Merge the datasets on the 'first_name' column\n",
    "merged_df = pd.merge(active_members_extra_clean_df, uci_gender_df, on='first_name', how='left', suffixes=('_left', ''))\n",
    "\n",
    "# Display the first few rows of the merged dataframe to verify the merge\n",
    "# merged_df.head()"
   ]
  },
  {
   "cell_type": "markdown",
   "metadata": {},
   "source": [
    "# Save the New Dataset"
   ]
  },
  {
   "cell_type": "code",
   "execution_count": 7,
   "metadata": {
    "execution": {
     "iopub.execute_input": "2024-11-19T20:52:20.450458Z",
     "iopub.status.busy": "2024-11-19T20:52:20.450147Z",
     "iopub.status.idle": "2024-11-19T20:52:20.464921Z",
     "shell.execute_reply": "2024-11-19T20:52:20.464162Z"
    }
   },
   "outputs": [],
   "source": [
    "# Save the new dataset with the gender column to a CSV file\n",
    "merged_df.to_csv(config.ACTIVE_MEMBERS_EXTRA_GENDER, index=False)"
   ]
  }
 ],
 "metadata": {
  "kernelspec": {
   "display_name": ".venv",
   "language": "python",
   "name": "python3"
  },
  "language_info": {
   "codemirror_mode": {
    "name": "ipython",
    "version": 3
   },
   "file_extension": ".py",
   "mimetype": "text/x-python",
   "name": "python",
   "nbconvert_exporter": "python",
   "pygments_lexer": "ipython3",
   "version": "3.9.20"
  }
 },
 "nbformat": 4,
 "nbformat_minor": 2
}
