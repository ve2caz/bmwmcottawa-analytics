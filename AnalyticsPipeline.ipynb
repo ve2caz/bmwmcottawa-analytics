{
 "cells": [
  {
   "cell_type": "markdown",
   "metadata": {},
   "source": [
    "# Import Required Libraries"
   ]
  },
  {
   "cell_type": "code",
   "execution_count": 36,
   "metadata": {},
   "outputs": [],
   "source": [
    "import os\n",
    "import nbformat # type: ignore"
   ]
  },
  {
   "cell_type": "markdown",
   "metadata": {},
   "source": [
    "# List All Notebooks\n",
    "Use the os library to list all Jupyter notebooks in the specified directory."
   ]
  },
  {
   "cell_type": "code",
   "execution_count": 37,
   "metadata": {},
   "outputs": [
    {
     "data": {
      "text/plain": [
       "['01-ActiveMembersExtra-Schema.ipynb',\n",
       " '01xxx-ActiveMembersExtra-Clean.ipynb',\n",
       " '02-EventInformationData-Schema.ipynb',\n",
       " '02xxx-ActiveMembersExtra-Gender.ipynb',\n",
       " '03-EventsAndRegistrants-Schema.ipynb',\n",
       " '03xxx-ActiveMembersExtraGender-Demographics.ipynb',\n",
       " '04xxx-ActiveMembersExtraGender-CountryDistribution.ipynb']"
      ]
     },
     "execution_count": 37,
     "metadata": {},
     "output_type": "execute_result"
    }
   ],
   "source": [
    "# List All Notebooks\n",
    "notebook_dir = './notebooks'\n",
    "\n",
    "# List all files in the specified directory\n",
    "all_files = os.listdir(notebook_dir)\n",
    "\n",
    "# Only include Jupyter notebooks\n",
    "notebooks = [file for file in all_files if file.endswith('.ipynb')]\n",
    "notebooks.sort()\n",
    "\n",
    "# Display the list of notebooks\n",
    "notebooks"
   ]
  },
  {
   "cell_type": "markdown",
   "metadata": {},
   "source": [
    "# Define Execution Order\n",
    "Define the order in which the notebooks should be executed."
   ]
  },
  {
   "cell_type": "code",
   "execution_count": 38,
   "metadata": {},
   "outputs": [],
   "source": [
    "# Define the order in which the notebooks should be executed\n",
    "execution_order = [\n",
    "    '01-ActiveMembersExtra-Schema.ipynb',\n",
    "    '02-EventInformationData-Schema.ipynb',\n",
    "    '03-EventsAndRegistrants-Schema.ipynb',\n",
    "]\n",
    "\n",
    "# Ensure all specified notebooks exist in the directory\n",
    "for notebook in execution_order:\n",
    "    if notebook not in notebooks:\n",
    "        raise FileNotFoundError(f\"{notebook} not found in the specified directory.\")\n",
    "\n",
    "# Ensure all specified notebooks exist in the directory\n",
    "for notebook in execution_order:\n",
    "    if notebook not in notebooks:\n",
    "        raise FileNotFoundError(f\"{notebook} not found in the specified directory.\")"
   ]
  },
  {
   "cell_type": "markdown",
   "metadata": {},
   "source": [
    "# Execute Notebooks in Order\n",
    "Use nbconvert to execute the notebooks in the defined order."
   ]
  },
  {
   "cell_type": "code",
   "execution_count": 39,
   "metadata": {},
   "outputs": [
    {
     "name": "stdout",
     "output_type": "stream",
     "text": [
      "Requirement already satisfied: nbconvert in ./.venv/lib/python3.9/site-packages (7.16.4)\n",
      "Requirement already satisfied: jupyter-core>=4.7 in ./.venv/lib/python3.9/site-packages (from nbconvert) (5.7.2)\n",
      "Requirement already satisfied: packaging in ./.venv/lib/python3.9/site-packages (from nbconvert) (24.2)\n",
      "Requirement already satisfied: pandocfilters>=1.4.1 in ./.venv/lib/python3.9/site-packages (from nbconvert) (1.5.1)\n",
      "Requirement already satisfied: importlib-metadata>=3.6 in ./.venv/lib/python3.9/site-packages (from nbconvert) (8.5.0)\n",
      "Requirement already satisfied: markupsafe>=2.0 in ./.venv/lib/python3.9/site-packages (from nbconvert) (3.0.2)\n",
      "Requirement already satisfied: tinycss2 in ./.venv/lib/python3.9/site-packages (from nbconvert) (1.4.0)\n",
      "Requirement already satisfied: mistune<4,>=2.0.3 in ./.venv/lib/python3.9/site-packages (from nbconvert) (3.0.2)\n",
      "Requirement already satisfied: defusedxml in ./.venv/lib/python3.9/site-packages (from nbconvert) (0.7.1)\n",
      "Requirement already satisfied: traitlets>=5.1 in ./.venv/lib/python3.9/site-packages (from nbconvert) (5.14.3)\n",
      "Requirement already satisfied: nbformat>=5.7 in ./.venv/lib/python3.9/site-packages (from nbconvert) (5.10.4)\n",
      "Requirement already satisfied: nbclient>=0.5.0 in ./.venv/lib/python3.9/site-packages (from nbconvert) (0.10.0)\n",
      "Requirement already satisfied: pygments>=2.4.1 in ./.venv/lib/python3.9/site-packages (from nbconvert) (2.18.0)\n",
      "Requirement already satisfied: bleach!=5.0.0 in ./.venv/lib/python3.9/site-packages (from nbconvert) (6.2.0)\n",
      "Requirement already satisfied: jupyterlab-pygments in ./.venv/lib/python3.9/site-packages (from nbconvert) (0.3.0)\n",
      "Requirement already satisfied: jinja2>=3.0 in ./.venv/lib/python3.9/site-packages (from nbconvert) (3.1.4)\n",
      "Requirement already satisfied: beautifulsoup4 in ./.venv/lib/python3.9/site-packages (from nbconvert) (4.12.3)\n",
      "Requirement already satisfied: webencodings in ./.venv/lib/python3.9/site-packages (from bleach!=5.0.0->nbconvert) (0.5.1)\n",
      "Requirement already satisfied: zipp>=3.20 in ./.venv/lib/python3.9/site-packages (from importlib-metadata>=3.6->nbconvert) (3.21.0)\n",
      "Requirement already satisfied: platformdirs>=2.5 in ./.venv/lib/python3.9/site-packages (from jupyter-core>=4.7->nbconvert) (4.3.6)\n",
      "Requirement already satisfied: jupyter-client>=6.1.12 in ./.venv/lib/python3.9/site-packages (from nbclient>=0.5.0->nbconvert) (7.4.9)\n",
      "Requirement already satisfied: jsonschema>=2.6 in ./.venv/lib/python3.9/site-packages (from nbformat>=5.7->nbconvert) (4.23.0)\n",
      "Requirement already satisfied: fastjsonschema>=2.15 in ./.venv/lib/python3.9/site-packages (from nbformat>=5.7->nbconvert) (2.20.0)\n",
      "Requirement already satisfied: soupsieve>1.2 in ./.venv/lib/python3.9/site-packages (from beautifulsoup4->nbconvert) (2.6)\n",
      "Requirement already satisfied: attrs>=22.2.0 in ./.venv/lib/python3.9/site-packages (from jsonschema>=2.6->nbformat>=5.7->nbconvert) (24.2.0)\n",
      "Requirement already satisfied: jsonschema-specifications>=2023.03.6 in ./.venv/lib/python3.9/site-packages (from jsonschema>=2.6->nbformat>=5.7->nbconvert) (2024.10.1)\n",
      "Requirement already satisfied: rpds-py>=0.7.1 in ./.venv/lib/python3.9/site-packages (from jsonschema>=2.6->nbformat>=5.7->nbconvert) (0.21.0)\n",
      "Requirement already satisfied: referencing>=0.28.4 in ./.venv/lib/python3.9/site-packages (from jsonschema>=2.6->nbformat>=5.7->nbconvert) (0.35.1)\n",
      "Requirement already satisfied: entrypoints in ./.venv/lib/python3.9/site-packages (from jupyter-client>=6.1.12->nbclient>=0.5.0->nbconvert) (0.4)\n",
      "Requirement already satisfied: tornado>=6.2 in ./.venv/lib/python3.9/site-packages (from jupyter-client>=6.1.12->nbclient>=0.5.0->nbconvert) (6.4.1)\n",
      "Requirement already satisfied: pyzmq>=23.0 in ./.venv/lib/python3.9/site-packages (from jupyter-client>=6.1.12->nbclient>=0.5.0->nbconvert) (24.0.1)\n",
      "Requirement already satisfied: nest-asyncio>=1.5.4 in ./.venv/lib/python3.9/site-packages (from jupyter-client>=6.1.12->nbclient>=0.5.0->nbconvert) (1.6.0)\n",
      "Requirement already satisfied: python-dateutil>=2.8.2 in ./.venv/lib/python3.9/site-packages (from jupyter-client>=6.1.12->nbclient>=0.5.0->nbconvert) (2.9.0.post0)\n",
      "Requirement already satisfied: six>=1.5 in ./.venv/lib/python3.9/site-packages (from python-dateutil>=2.8.2->jupyter-client>=6.1.12->nbclient>=0.5.0->nbconvert) (1.16.0)\n",
      "\n",
      "\u001b[1m[\u001b[0m\u001b[34;49mnotice\u001b[0m\u001b[1;39;49m]\u001b[0m\u001b[39;49m A new release of pip is available: \u001b[0m\u001b[31;49m23.0.1\u001b[0m\u001b[39;49m -> \u001b[0m\u001b[32;49m24.3.1\u001b[0m\n",
      "\u001b[1m[\u001b[0m\u001b[34;49mnotice\u001b[0m\u001b[1;39;49m]\u001b[0m\u001b[39;49m To update, run: \u001b[0m\u001b[32;49mpip install --upgrade pip\u001b[0m\n",
      "Note: you may need to restart the kernel to use updated packages.\n"
     ]
    }
   ],
   "source": [
    "# Execute Notebooks in Order\n",
    "%pip install nbconvert\n",
    "\n",
    "from nbconvert.preprocessors import ExecutePreprocessor\n",
    "\n",
    "# Function to execute a notebook\n",
    "def execute_notebook(notebook_path):\n",
    "    with open(notebook_path) as f:\n",
    "        nb = nbformat.read(f, as_version=4)\n",
    "    \n",
    "    ep = ExecutePreprocessor(timeout=600, kernel_name='python3')\n",
    "    ep.preprocess(nb, {'metadata': {'path': notebook_dir}})\n",
    "    \n",
    "    with open(notebook_path, 'w', encoding='utf-8') as f:\n",
    "        nbformat.write(nb, f)\n",
    "\n",
    "# Execute each notebook in the defined order\n",
    "for notebook in execution_order:\n",
    "    notebook_path = os.path.join(notebook_dir, notebook)\n",
    "    execute_notebook(notebook_path)"
   ]
  }
 ],
 "metadata": {
  "language_info": {
   "name": "python"
  }
 },
 "nbformat": 4,
 "nbformat_minor": 2
}
