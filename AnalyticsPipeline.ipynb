{
  "cells": [
    {
      "cell_type": "markdown",
      "metadata": {},
      "source": [
        "# Import Required Libraries"
      ]
    },
    {
      "cell_type": "code",
      "execution_count": null,
      "metadata": {},
      "outputs": [],
      "source": [
        "from nbconvert.preprocessors import ExecutePreprocessor\n",
        "import os\n",
        "import nbformat # type: ignore"
      ]
    },
    {
      "cell_type": "markdown",
      "metadata": {},
      "source": [
        "# List All Notebooks\n",
        "Use the os library to list all Jupyter notebooks in the specified directory."
      ]
    },
    {
      "cell_type": "code",
      "execution_count": null,
      "metadata": {},
      "outputs": [],
      "source": [
        "# List All Notebooks\n",
        "notebook_dir = './notebooks'\n",
        "\n",
        "# List all files in the specified directory\n",
        "all_files = os.listdir(notebook_dir)\n",
        "\n",
        "# Only include Jupyter notebooks\n",
        "notebooks = [file for file in all_files if file.endswith('.ipynb')]\n",
        "notebooks.sort()\n",
        "\n",
        "# Display the list of notebooks\n",
        "notebooks"
      ]
    },
    {
      "cell_type": "markdown",
      "metadata": {},
      "source": [
        "# Define Execution Order\n",
        "Define the order in which the notebooks should be executed."
      ]
    },
    {
      "cell_type": "code",
      "execution_count": null,
      "metadata": {},
      "outputs": [],
      "source": [
        "# Define the order in which the notebooks should be executed\n",
        "execution_order = [\n",
        "    '01a-ActiveMembersExtra-Schema.ipynb',\n",
        "    '01b-ActiveMembersExtra-Data.ipynb',\n",
        "    '01c-ActiveMembersExtra-Demographics.ipynb',\n",
        "    '01d-ActiveMembersExtra-CountryDistribution.ipynb',\n",
        "    '02a-EventInformationData-Schema.ipynb',\n",
        "    '03a-EventsAndRegistrants-Schema.ipynb',\n",
        "]\n",
        "\n",
        "# Ensure all specified notebooks exist in the directory\n",
        "for notebook in execution_order:\n",
        "    if notebook not in notebooks:\n",
        "        raise FileNotFoundError(f\"{notebook} not found in the specified directory.\")\n",
        "\n",
        "# Ensure all specified notebooks exist in the directory\n",
        "for notebook in execution_order:\n",
        "    if notebook not in notebooks:\n",
        "        raise FileNotFoundError(f\"{notebook} not found in the specified directory.\")"
      ]
    },
    {
      "cell_type": "markdown",
      "metadata": {},
      "source": [
        "# Execute Notebooks in Order\n",
        "Use nbconvert to execute the notebooks in the defined order."
      ]
    },
    {
      "cell_type": "code",
      "execution_count": null,
      "metadata": {},
      "outputs": [],
      "source": [
        "# Execute Notebooks in Order\n",
        "# %pip install nbconvert\n",
        "\n",
        "# Function to execute a notebook\n",
        "def execute_notebook(notebook_path):\n",
        "    print(f\"Executing notebook: {notebook_path}\")\n",
        "    with open(notebook_path) as f:\n",
        "        nb = nbformat.read(f, as_version=4)\n",
        "    \n",
        "    ep = ExecutePreprocessor(timeout=600, kernel_name='python3')\n",
        "    ep.preprocess(nb, {'metadata': {'path': notebook_dir}})\n",
        "    \n",
        "    with open(notebook_path, 'w', encoding='utf-8') as f:\n",
        "        nbformat.write(nb, f)\n",
        "\n",
        "# Execute each notebook in the defined order\n",
        "for notebook in execution_order:\n",
        "    notebook_path = os.path.join(notebook_dir, notebook)\n",
        "    execute_notebook(notebook_path)"
      ]
    }
  ],
  "metadata": {
    "language_info": {
      "name": "python"
    }
  },
  "nbformat": 4,
  "nbformat_minor": 2
}
